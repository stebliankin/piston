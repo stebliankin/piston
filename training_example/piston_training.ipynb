{
 "cells": [
  {
   "cell_type": "markdown",
   "metadata": {
    "tags": []
   },
   "source": [
    "# Training PIsToN\n",
    "\n",
    "This notebook is a supplemental material to the paper titled \"PIsToN: Evaluating Protein Binding Interfaces with Transformer Networks.\"\n",
    "\n",
    "The notebook provides an example on how to train the PIsToN model.\n",
    " \n",
    "If you are using this code, please cite the following paper:\n",
    "\n",
    "Stebliankin V, Shirali A, Baral P, Chapagain P, Narasimhan G. PIsToN: Evaluating Protein Binding Interfaces with Transformer Networks. bioRxiv. 2023 Jan 4:2023-01.\n",
    "\n",
    "---\n",
    "Vitalii Stebliankin (vsteb002@fiu.edu) <br>\n",
    "Bioinformatics Research Group (BioRG) <br>\n",
    "Florida International University\n",
    "---\n"
   ]
  },
  {
   "cell_type": "code",
   "execution_count": 1,
   "metadata": {},
   "outputs": [],
   "source": [
    "import numpy as np\n",
    "import torch\n",
    "import torch.nn as nn\n",
    "\n",
    "import random\n",
    "\n",
    "from torch.utils.data import DataLoader\n",
    "\n",
    "from tqdm import tqdm\n",
    "import os\n",
    "\n",
    "#### Local import\n",
    "import sys\n",
    "sys.path.append('../../src')\n",
    "from utils.dataset import PDB_complex_training\n",
    "from utils.trainer import fit, evaluate_val\n",
    "from utils.utils import get_processed"
   ]
  },
  {
   "cell_type": "code",
   "execution_count": 2,
   "metadata": {},
   "outputs": [],
   "source": [
    "# Description of features:\n",
    "    # 0 - Shape index | p1\n",
    "    # 1 - Distance depended curvature | p1\n",
    "    # 2 - Hydrogen bond potential | p1\n",
    "    # 3 - Charge | p1\n",
    "    # 4 - Hydrophobicity | p1\n",
    "    # 5 - Shape index | p1\n",
    "    # 6 - Distance depended curvature | p1\n",
    "    # 7 - Hydrogen bond potential | p1\n",
    "    # 8 - Charge | p1\n",
    "    # 9 - Hydrophobicity | p1\n",
    "    # 10 - Distance between atoms | p1 and p2\n",
    "    # 11 - Relative ASA | p1\n",
    "    # 12 - Relative ASA | p2"
   ]
  },
  {
   "cell_type": "code",
   "execution_count": 3,
   "metadata": {},
   "outputs": [],
   "source": [
    "# Constants and directories\n",
    "MARGIN=0\n",
    "TEMP=0.5\n",
    "DIM=16\n",
    "\n",
    "DATA_DIR = os.getcwd()+'./data_preparation/'\n",
    "\n",
    "TRAIN_LIST_FILE = '../data/lists/training.txt'\n",
    "VAL_LIST_FILE = '../data/lists/final_val.txt'\n",
    "\n",
    "PATIENCE=10 # number of consequitive times when model don't improve before early stopping\n",
    "SEED_ID = 7272\n",
    "BATCH_SIZE=1\n",
    "MAX_EPOCH = 200\n",
    "\n",
    "MODEL_NAME=f'PIsToN_multiAttn_contrast'\n",
    "MODEL_DIR=f'./savedModels/{MODEL_NAME}'\n",
    "IMG_SIZE=32\n",
    "\n",
    "# Select only original MaSIF features\n",
    "FEATURES_SUBSET = list(range(13)) # Use all features\n",
    "N_FEATURES=len(FEATURES_SUBSET)"
   ]
  },
  {
   "cell_type": "markdown",
   "metadata": {},
   "source": [
    "## Config"
   ]
  },
  {
   "cell_type": "code",
   "execution_count": 4,
   "metadata": {},
   "outputs": [],
   "source": [
    "import os\n",
    "\n",
    "config = {}\n",
    "\n",
    "config['dirs'] = {}\n",
    "config['dirs']['data_prepare'] = DATA_DIR\n",
    "config['dirs']['grid'] = config['dirs']['data_prepare'] + '07-grid/'\n",
    "config['dirs']['docked'] = config['dirs']['data_prepare'] + 'docked/'\n",
    "config['dirs']['tmp'] = '/aul/homes/vsteb002/tmp'\n",
    "\n",
    "config['ppi_const'] = {}\n",
    "config['ppi_const']['patch_r'] = 16 # 16\n",
    "\n",
    "os.environ[\"TMP\"] = config['dirs']['tmp']\n",
    "os.environ[\"TMPDIR\"] = config['dirs']['tmp']\n",
    "os.environ[\"TEMP\"] = config['dirs']['tmp']"
   ]
  },
  {
   "cell_type": "markdown",
   "metadata": {},
   "source": [
    "## Get the list of processed complexes\n",
    "\n",
    "In some cases, a complex can't be pre-processed due to the memory overflow."
   ]
  },
  {
   "cell_type": "code",
   "execution_count": 5,
   "metadata": {},
   "outputs": [
    {
     "name": "stdout",
     "output_type": "stream",
     "text": [
      "4819/4942 training complexes were processed for 12A\n",
      "179/181 validation complexes were processed for 12A\n"
     ]
    }
   ],
   "source": [
    "from utils.utils import get_processed\n",
    "\n",
    "train_list = [x.strip('\\n') for x in open(TRAIN_LIST_FILE, 'r').readlines()]\n",
    "val_list = [x.strip('\\n') for x in open(VAL_LIST_FILE, 'r').readlines()]\n",
    "\n",
    "train_list_updated = get_processed(train_list, config)\n",
    "val_list_updated = get_processed(val_list, config)\n",
    "\n",
    "print(f\"{len(train_list_updated)}/{len(train_list)} training complexes were processed for 12A\")\n",
    "print(f\"{len(val_list_updated)}/{len(val_list)} validation complexes were processed for 12A\")\n"
   ]
  },
  {
   "cell_type": "markdown",
   "metadata": {},
   "source": [
    "## Learn mean and standard deviation for standard scaling for images"
   ]
  },
  {
   "cell_type": "code",
   "execution_count": 6,
   "metadata": {},
   "outputs": [
    {
     "name": "stdout",
     "output_type": "stream",
     "text": [
      "Loaded 4819 native complexes\n"
     ]
    }
   ],
   "source": [
    "## Read all positive complexes\n",
    "grid_native_list = []\n",
    "for ppi in train_list:\n",
    "    grid_path = f\"{config['dirs']['grid']}/{ppi}.npy\"\n",
    "    if os.path.exists(grid_path):\n",
    "        grid_native_list.append(np.load(grid_path, allow_pickle=True))\n",
    "\n",
    "print(f\"Loaded {len(grid_native_list)} native complexes\")\n",
    "all_grid = np.stack(grid_native_list, axis=0)\n",
    "\n",
    "radius = config['ppi_const']['patch_r']\n",
    "\n",
    "\n",
    "std_array = np.ones(N_FEATURES)\n",
    "mean_array = np.zeros(N_FEATURES)\n",
    "\n",
    "feature_pairs = {\n",
    "    'shape_index': (0, 5),\n",
    "    'ddc': (1, 6),\n",
    "    'electrostatics': (2, 7),\n",
    "    'charge': (3, 8),\n",
    "    'hydrophobicity': (4, 9),\n",
    "    'patch_dist':(10,),\n",
    "    'SASA': (11,12)\n",
    "    }"
   ]
  },
  {
   "cell_type": "code",
   "execution_count": 7,
   "metadata": {},
   "outputs": [
    {
     "name": "stdout",
     "output_type": "stream",
     "text": [
      "Obtaining pixel values for shape_index\n",
      "Index 0\n"
     ]
    },
    {
     "name": "stderr",
     "output_type": "stream",
     "text": [
      "100%|████████████████████████████████████████████████████████████████████████████████████████████████████████████| 4819/4819 [00:05<00:00, 872.43it/s]\n"
     ]
    },
    {
     "name": "stdout",
     "output_type": "stream",
     "text": [
      "Index 5\n"
     ]
    },
    {
     "name": "stderr",
     "output_type": "stream",
     "text": [
      "100%|████████████████████████████████████████████████████████████████████████████████████████████████████████████| 4819/4819 [00:05<00:00, 876.05it/s]\n"
     ]
    },
    {
     "name": "stdout",
     "output_type": "stream",
     "text": [
      "Feature shape_index; Mean: 0.06383528408485302; std: 0.4507792893174703\n",
      "Obtaining pixel values for ddc\n",
      "Index 1\n"
     ]
    },
    {
     "name": "stderr",
     "output_type": "stream",
     "text": [
      "100%|████████████████████████████████████████████████████████████████████████████████████████████████████████████| 4819/4819 [00:05<00:00, 870.98it/s]\n"
     ]
    },
    {
     "name": "stdout",
     "output_type": "stream",
     "text": [
      "Index 6\n"
     ]
    },
    {
     "name": "stderr",
     "output_type": "stream",
     "text": [
      "100%|████████████████████████████████████████████████████████████████████████████████████████████████████████████| 4819/4819 [00:05<00:00, 869.74it/s]\n"
     ]
    },
    {
     "name": "stdout",
     "output_type": "stream",
     "text": [
      "Feature ddc; Mean: 0.043833505848899605; std: 0.14148081793902434\n",
      "Obtaining pixel values for electrostatics\n",
      "Index 2\n"
     ]
    },
    {
     "name": "stderr",
     "output_type": "stream",
     "text": [
      "100%|████████████████████████████████████████████████████████████████████████████████████████████████████████████| 4819/4819 [00:05<00:00, 869.54it/s]\n"
     ]
    },
    {
     "name": "stdout",
     "output_type": "stream",
     "text": [
      "Index 7\n"
     ]
    },
    {
     "name": "stderr",
     "output_type": "stream",
     "text": [
      "100%|████████████████████████████████████████████████████████████████████████████████████████████████████████████| 4819/4819 [00:05<00:00, 871.45it/s]\n"
     ]
    },
    {
     "name": "stdout",
     "output_type": "stream",
     "text": [
      "Feature electrostatics; Mean: -0.08456032982438057; std: 0.16581325050002976\n",
      "Obtaining pixel values for charge\n",
      "Index 3\n"
     ]
    },
    {
     "name": "stderr",
     "output_type": "stream",
     "text": [
      "100%|████████████████████████████████████████████████████████████████████████████████████████████████████████████| 4819/4819 [00:05<00:00, 874.62it/s]\n"
     ]
    },
    {
     "name": "stdout",
     "output_type": "stream",
     "text": [
      "Index 8\n"
     ]
    },
    {
     "name": "stderr",
     "output_type": "stream",
     "text": [
      "100%|████████████████████████████████████████████████████████████████████████████████████████████████████████████| 4819/4819 [00:05<00:00, 872.78it/s]\n"
     ]
    },
    {
     "name": "stdout",
     "output_type": "stream",
     "text": [
      "Feature charge; Mean: 0.007828608135306595; std: 0.28599861830017204\n",
      "Obtaining pixel values for hydrophobicity\n",
      "Index 4\n"
     ]
    },
    {
     "name": "stderr",
     "output_type": "stream",
     "text": [
      "100%|████████████████████████████████████████████████████████████████████████████████████████████████████████████| 4819/4819 [00:05<00:00, 873.63it/s]\n"
     ]
    },
    {
     "name": "stdout",
     "output_type": "stream",
     "text": [
      "Index 9\n"
     ]
    },
    {
     "name": "stderr",
     "output_type": "stream",
     "text": [
      "100%|████████████████████████████████████████████████████████████████████████████████████████████████████████████| 4819/4819 [00:05<00:00, 872.30it/s]\n"
     ]
    },
    {
     "name": "stdout",
     "output_type": "stream",
     "text": [
      "Feature hydrophobicity; Mean: -0.06060602411612203; std: 0.6102229371168204\n",
      "Obtaining pixel values for patch_dist\n",
      "Index 10\n"
     ]
    },
    {
     "name": "stderr",
     "output_type": "stream",
     "text": [
      "100%|████████████████████████████████████████████████████████████████████████████████████████████████████████████| 4819/4819 [00:05<00:00, 871.94it/s]\n"
     ]
    },
    {
     "name": "stdout",
     "output_type": "stream",
     "text": [
      "Feature patch_dist; Mean: 11.390402735801011; std: 7.265311558033949\n",
      "Obtaining pixel values for SASA\n",
      "Index 11\n"
     ]
    },
    {
     "name": "stderr",
     "output_type": "stream",
     "text": [
      "100%|████████████████████████████████████████████████████████████████████████████████████████████████████████████| 4819/4819 [00:05<00:00, 870.94it/s]\n"
     ]
    },
    {
     "name": "stdout",
     "output_type": "stream",
     "text": [
      "Index 12\n"
     ]
    },
    {
     "name": "stderr",
     "output_type": "stream",
     "text": [
      "100%|████████████████████████████████████████████████████████████████████████████████████████████████████████████| 4819/4819 [00:05<00:00, 871.03it/s]\n"
     ]
    },
    {
     "name": "stdout",
     "output_type": "stream",
     "text": [
      "Feature SASA; Mean: 0.1496338245579665; std: 0.18003612950610695\n",
      "Mean array:\n",
      "[0.06383528408485302, 0.043833505848899605, -0.08456032982438057, 0.007828608135306595, -0.06060602411612203, 0.06383528408485302, 0.043833505848899605, -0.08456032982438057, 0.007828608135306595, -0.06060602411612203, 11.390402735801011, 0.1496338245579665, 0.1496338245579665]\n",
      "\n",
      "Standard deviation array:\n",
      "[0.4507792893174703, 0.14148081793902434, 0.16581325050002976, 0.28599861830017204, 0.6102229371168204, 0.4507792893174703, 0.14148081793902434, 0.16581325050002976, 0.28599861830017204, 0.6102229371168204, 7.265311558033949, 0.18003612950610695, 0.18003612950610695]\n"
     ]
    }
   ],
   "source": [
    "for feature in feature_pairs.keys():\n",
    "    print(f\"Obtaining pixel values for {feature}\")\n",
    "    pixel_values = []\n",
    "    for feature_i in feature_pairs[feature]:\n",
    "        print(f\"Index {feature_i}\")\n",
    "        for image_i in tqdm(range(all_grid.shape[0])):\n",
    "            for row_i in range(all_grid.shape[1]):\n",
    "                for column_i in range(all_grid.shape[2]):\n",
    "                    # Check if coordinates are within the radius\n",
    "                    x = column_i - radius\n",
    "                    y = radius - row_i\n",
    "                    if x**2 + y**2 < radius**2:\n",
    "                        pixel_values.append(all_grid[image_i][row_i][column_i][feature_i])\n",
    "\n",
    "    mean_value = np.mean(pixel_values)\n",
    "    std_value = np.std(pixel_values)\n",
    "    print(f\"Feature {feature}; Mean: {mean_value}; std: {std_value}\")\n",
    "    for feature_i in feature_pairs[feature]:\n",
    "        mean_array[feature_i] = mean_value\n",
    "        std_array[feature_i] = std_value\n",
    "        \n",
    "print(\"Mean array:\")\n",
    "print(list(mean_array))\n",
    "print(\"\")\n",
    "print(\"Standard deviation array:\")\n",
    "print(list(std_array))"
   ]
  },
  {
   "cell_type": "markdown",
   "metadata": {},
   "source": [
    "## Learn mean and std of energy terms"
   ]
  },
  {
   "cell_type": "code",
   "execution_count": 8,
   "metadata": {},
   "outputs": [],
   "source": [
    "def read_energies(energies_path, assign_zeros=False):\n",
    "    # energies_path - path to the energy file computed by firedock\n",
    "    # assign_zeros - if set True and energies file is empty, assign zeros to all energies (default is False)\n",
    "    \n",
    "    \"\"\"\n",
    "    :param ppi:\n",
    "    :return: numpy array of energy terms:\n",
    "        (0) - indx\n",
    "        (1) - Lrmsd     - ligand rmsd of the final position, after the rigid-body optimization.\n",
    "        (2) -Irmsd     - interface rmsd of the final position, after the rigid-body optimization.\n",
    "        (3) - st_Lrmsd  - initial ligand rmsd.\n",
    "        (4) - st_Irmsd  - initial ligand rmsd.\n",
    "    0 - (5) - glob      - global score of the candidate, which is linear combination of the terms described bellow. To rank the candidates, you should sort the rows by this column in ascending order.\n",
    "    1 - (6) - aVdW      - attractive van der Waals\n",
    "    2 - (7) - rVdW      - repulsive van der Waals\n",
    "    3 - (8) - ACE       - Atomic Contact Energy\n",
    "    4 - (9) - inside    - \"Insideness\" measure, which reflects the concavity of the interface.\n",
    "    5 - (10) - aElec     - short-range attractive electrostatic term\n",
    "    6 - (11) - rElec     - short-range repulsive electrostatic term\n",
    "    7 - (12) - laElec    - long-range attractive electrostatic term\n",
    "    8 - (13) - lrElec    - long-range repulsive electrostatic term\n",
    "    9 - (14) - hb        - hydrogen and disulfide bonding\n",
    "    10 - (15) - piS\t  - pi-stacking interactions\n",
    "    11 - (16) - catpiS\t  - cation-pi interactions\n",
    "    12 - (17) - aliph\t  - aliphatic interactions\n",
    "         (18) - prob      - rotamer probability\n",
    "\n",
    "    \"\"\"    \n",
    "    to_read=False\n",
    "    all_energies = None\n",
    "    with open(energies_path, 'r') as f:\n",
    "        for line in f.readlines():\n",
    "            if to_read:\n",
    "                all_energies = line.split('|')\n",
    "                all_energies = [x.strip(' ') for x in all_energies]\n",
    "                all_energies = all_energies[5:18]\n",
    "                all_energies = [float(x) for x in all_energies]\n",
    "                all_energies = np.array(all_energies)\n",
    "                break\n",
    "            if 'Sol # |' in line:\n",
    "                to_read=True\n",
    "    if all_energies is not None:\n",
    "        all_energies = np.nan_to_num(all_energies)\n",
    "    elif assign_zeros:\n",
    "        all_energies = np.zeros(13)\n",
    "        \n",
    "    return all_energies"
   ]
  },
  {
   "cell_type": "code",
   "execution_count": 9,
   "metadata": {},
   "outputs": [
    {
     "name": "stdout",
     "output_type": "stream",
     "text": [
      "Loaded energy terms from 4740 native complexes\n",
      "Energies mean: [-193.1392953586498, -101.97838818565408, 264.2099535864983, -17.27086075949363, 16.329959915611877, -102.78101054852341, 36.531006329113836, -27.1124789029536, 16.632626582278455, -8.784924050632918, -6.206329113924051, -1.8290084388185655, -11.827215189873417]\n",
      "Energies std: [309.23521244706757, 66.75799437657368, 9792.783784373369, 25.384427268309658, 7.929941961525389, 94.05055841984323, 47.22518557457095, 24.392679889433445, 17.57399925906454, 7.041949880295568, 6.99554122803362, 2.557571754303165, 13.666329541281653]\n"
     ]
    }
   ],
   "source": [
    "## Read energies from all positive complexes\n",
    "\n",
    "all_energies_list = []\n",
    "for ppi in train_list:\n",
    "    energy_path = f\"{config['dirs']['grid']}/refined-out-{ppi}.ref\"\n",
    "    if os.path.exists(energy_path):\n",
    "        energy_i = read_energies(energy_path)\n",
    "        if energy_i is not None:\n",
    "            all_energies_list.append(energy_i)\n",
    "\n",
    "print(f\"Loaded energy terms from {len(all_energies_list)} native complexes\")\n",
    "all_energies = np.stack(all_energies_list, axis=0)\n",
    "all_energies_mean = np.mean(all_energies, axis=0)\n",
    "all_energies_std = np.std(all_energies, axis=0)\n",
    "print(f\"Energies mean: {list(all_energies_mean)}\")\n",
    "print(f\"Energies std: {list(all_energies_std)}\")\n"
   ]
  },
  {
   "cell_type": "code",
   "execution_count": 10,
   "metadata": {},
   "outputs": [],
   "source": [
    "\"\"\"\n",
    "Apply contrastive loss to the final embeddings;\n",
    "\n",
    "\"\"\"\n",
    "\n",
    "import torch\n",
    "from torch import nn\n",
    "from networks.ViT_pytorch import Encoder\n",
    "from networks.ViT_hybrid import ViT_Hybrid_encoder\n",
    "import pdb\n",
    "from torch.nn import CosineEmbeddingLoss\n",
    "from losses.proto_loss import ProtoLoss\n",
    "from losses.supCon_loss import SupConLoss\n",
    "\n",
    "class PISToN_proto(nn.Module):\n",
    "\n",
    "    def __init__(self, config, img_size=24, num_classes=2, zero_head=False, margin=0, temperature=0.1):\n",
    "        super(PISToN_proto, self).__init__()\n",
    "\n",
    "        \"\"\"\n",
    "        Input: Image with the following features:\n",
    "\n",
    "        0 - Shape index | p1\n",
    "        1 - Distance depended curvature | p1\n",
    "        2 - Hydrogen bond potential | p1\n",
    "        3 - Charge | p1\n",
    "        4 - Hydrophobicity | p1\n",
    "        5 - Shape index | p1\n",
    "        6 - Distance depended curvature | p1\n",
    "        7 - Hydrogen bond potential | p1\n",
    "        8 - Charge | p1\n",
    "        9 - Hydrophobicity | p1\n",
    "        10 - Distance between atoms | p1 and p2\n",
    "        11 - Relative ASA | p1\n",
    "        12 - Relative ASA | p1\n",
    "\n",
    "        Energies with the following features:\n",
    "        0  - glob      - global score of the candidate, which is linear combination of the terms described bellow. To rank the candidates, you should sort the rows by this column in ascending order.\n",
    "        1  - aVdW      - attractive van der Waals\n",
    "        2  - rVdW      - repulsive van der Waals\n",
    "        3  - ACE       - Atomic Contact Energy | desolvation (10.1006/jmbi.1996.0859)\n",
    "        4  - inside    - \"Insideness\" measure, which reflects the concavity of the interface.\n",
    "        5  - aElec     - short-range attractive electrostatic term\n",
    "        6  - rElec     - short-range repulsive electrostatic term\n",
    "        7  - laElec    - long-range attractive electrostatic term\n",
    "        8  - lrElec    - long-range repulsive electrostatic term\n",
    "        9  - hb        - hydrogen and disulfide bonding\n",
    "        10 - piS\t     - pi-stacking interactions\n",
    "        11 - catpiS\t  - cation-pi interactions\n",
    "        12 - aliph\t  - aliphatic interactions\n",
    "\n",
    "        Loss = alpha * (BCE_i/5) + Global_BCE, where alpha is a hyperparameter from 0 to 1\n",
    "\n",
    "        \"\"\"\n",
    "\n",
    "        # First tuple is the feature index in the image, and the second tuple is the feature index of energy terms\n",
    "        self.index_dict = {\n",
    "            'shape_complementarity': ( (0, 5, 1, 6, 10), (1,2,4) ),\n",
    "            'RASA': ( (11, 12, 10), (3,) ),\n",
    "            'hydrogen_bonds': ( (2, 7, 10), (9,) ),\n",
    "            'charge': ( (3, 8, 10), (5, 6, 7, 8, 10, 11, 12) ),\n",
    "            'hydrophobicity': ((4, 9, 10), ()),\n",
    "        }\n",
    "\n",
    "        self.img_size = img_size\n",
    "        self.num_classes = num_classes\n",
    "        self.zero_head = zero_head\n",
    "\n",
    "\n",
    "        self.spatial_transformers_list = nn.ModuleList()\n",
    "\n",
    "        for feature in self.index_dict.keys():\n",
    "            self.spatial_transformers_list.append(self.init_transformer(config, channels=len(self.index_dict[feature][0]),\n",
    "                                                                n_individual=len(self.index_dict[feature][1])))\n",
    "\n",
    "\n",
    "        self.classifier = config.classifier\n",
    "        self.feature_transformer = Encoder(config, vis=True)\n",
    "\n",
    "        self.cls_token = nn.Parameter(torch.zeros(1, 1, config.hidden_size), requires_grad=True)\n",
    "        self.proto_vector_pos = nn.Parameter(torch.rand(1,config.hidden_size), requires_grad=True)\n",
    "        self.proto_vector_neg = nn.Parameter(torch.rand(1,config.hidden_size), requires_grad=True)\n",
    "        self.margin = margin\n",
    "        self.temperature = temperature\n",
    "        #self.cosine_loss = CosineEmbeddingLoss(margin=margin)\n",
    "\n",
    "        # self.proto_loss_fn = ProtoLoss(margin=margin, prototype_activation_function=prototype_activation_function)\n",
    "\n",
    "        #self.final_head = nn.Linear(config.hidden_size, num_classes)\n",
    "\n",
    "    def init_transformer(self, config, channels, n_individual):\n",
    "        \"\"\"\n",
    "        Initialize Transformer Network for a given tupe of features\n",
    "        :param model_config:\n",
    "        :param channels:\n",
    "        :param n_individual:\n",
    "        :return:\n",
    "        \"\"\"\n",
    "        return ViT_Hybrid_encoder(config, n_individual, img_size=self.img_size,\n",
    "                        num_classes=self.num_classes, channels=channels, vis=True)\n",
    "\n",
    "\n",
    "    def forward(self, img, energies, labels=None):\n",
    "\n",
    "        all_x = []\n",
    "        all_spatial_attn = []\n",
    "        for i, feature in enumerate(self.index_dict.keys()):\n",
    "            img_tmp = img[:,self.index_dict[feature][0],:,:]\n",
    "            energy_tmp = energies[:, self.index_dict[feature][1]]\n",
    "\n",
    "            x, attn = self.spatial_transformers_list[i](img_tmp, energy_tmp)\n",
    "\n",
    "            all_x.append(x)\n",
    "            all_spatial_attn.append(attn)\n",
    "\n",
    "        x = torch.stack(all_x, dim=1) # (36, 5, 16)\n",
    "\n",
    "        # Create classification token\n",
    "        B = x.shape[0] #batch\n",
    "        cls_tokens = self.cls_token.expand(B, -1, -1)\n",
    "\n",
    "        x = torch.cat((cls_tokens, x), dim=1)\n",
    "\n",
    "        x, feature_attn = self.feature_transformer(x)\n",
    "\n",
    "        x = x[:, 0]\n",
    "        x = nn.functional.normalize(x)  # L2 normalization\n",
    "\n",
    "        proto_vector_pos = nn.functional.normalize(self.proto_vector_pos)\n",
    "        proto_vector_neg = nn.functional.normalize(self.proto_vector_neg)\n",
    "\n",
    "        dist = nn.PairwiseDistance()\n",
    "        dist_to_pos_prototype = dist(x, proto_vector_pos.repeat(x.shape[0], 1))\n",
    "        dist_to_neg_prototype = dist(x, proto_vector_neg.repeat(x.shape[0], 1))\n",
    "\n",
    "        # 0 - minimize distance to positives\n",
    "        logits = torch.stack([dist_to_pos_prototype-dist_to_neg_prototype, dist_to_neg_prototype-dist_to_pos_prototype], axis=1)\n",
    "\n",
    "        #scores = dist_to_pos_prototype-dist_to_neg_prototype\n",
    "        scores = dist_to_pos_prototype\n",
    "        #print(labels)\n",
    "        #print(scores)\n",
    "        # print(dist_to_pos_prototype)\n",
    "        # print(logits)\n",
    "        # print(dist_to_pos_prototype)\n",
    "        # print()\n",
    "        # print(dist_to_neg_prototype)\n",
    "        # print()\n",
    "        if labels is not None:\n",
    "            proto_loss_fn = ProtoLoss(margin=self.margin)\n",
    "            bce_loss_fn = nn.CrossEntropyLoss()\n",
    "            SupConLoss_fn = SupConLoss(temperature=self.temperature, base_temperature=self.temperature*10)\n",
    "\n",
    "            proto_loss = proto_loss_fn(x, proto_vector_pos, proto_vector_neg, labels)\n",
    "            BCE_loss = bce_loss_fn(logits, labels) # probability of the positive class\n",
    "            supCon_loss = SupConLoss_fn(x, labels)\n",
    "            loss = proto_loss + BCE_loss + supCon_loss\n",
    "\n",
    "        # Do the Supervised Contrastive Loss jointly with Cosine Loss\n",
    "        #x = self.final_head(x)\n",
    "\n",
    "            return scores, (all_spatial_attn, feature_attn), loss\n",
    "        else:\n",
    "            return scores, (all_spatial_attn, feature_attn)\n",
    "\n"
   ]
  },
  {
   "cell_type": "code",
   "execution_count": 11,
   "metadata": {},
   "outputs": [],
   "source": [
    "from networks.ViT_pytorch import get_ml_config\n",
    "from utils.trainer_supCon import evaluate_val, fit_supCon\n",
    "\n",
    "def train_piston(search_space, train_list, val_list, SEED_ID, IMG_SIZE, PATIENCE, MODEL_DIR,\n",
    "                  MODEL_NAME, docked_dir, pos_grid_dir, \n",
    "                  std, mean, energies_std, energies_mean,\n",
    "                  MAX_EPOCHS=50, N_FEATURES=10,\n",
    "                  feature_subset=None, disable_tqdm=True, print_summary=False, data_prepare_dir='./data_preparation/'):\n",
    "\n",
    "    assert len(mean) == N_FEATURES\n",
    "    if feature_subset is not None:\n",
    "        assert len(mean) == len(feature_subset)\n",
    "\n",
    "    train_db = PDB_complex_training(train_list,\n",
    "                                  training_mode=True,\n",
    "                                  feature_subset=feature_subset,\n",
    "                                  data_prepare_dir=data_prepare_dir,\n",
    "                                  neg_pos_ratio=search_space['neg_pos_ratio'],\n",
    "                                  mean=mean,\n",
    "                                  std=std,\n",
    "                                  energies_mean=energies_mean, \n",
    "                                  energies_std=energies_std)\n",
    "\n",
    "    val_db = PDB_complex_training(val_list,\n",
    "                                training_mode=False,\n",
    "                                feature_subset=feature_subset,\n",
    "                                data_prepare_dir=data_prepare_dir,\n",
    "                                neg_pos_ratio=search_space['neg_pos_ratio'],\n",
    "                                std=std,\n",
    "                                mean=mean,\n",
    "                                energies_mean=energies_mean, \n",
    "                                energies_std=energies_std)\n",
    "    \n",
    "    ##### Initialize data loaders\n",
    "    def worker_init_fn(worker_id):\n",
    "        random.seed(SEED_ID + worker_id)\n",
    "\n",
    "    trainloader = DataLoader(train_db, batch_size=1, shuffle=True, pin_memory=True)\n",
    "\n",
    "    valloader = DataLoader(val_db, batch_size=1, shuffle=False, pin_memory=True)\n",
    "\n",
    "    device = torch.device(\"cuda\" if torch.cuda.is_available() else \"cpu\")\n",
    "\n",
    "    ##### Initailize model\n",
    "    model_config=get_ml_config(search_space)\n",
    "    model = PISToN_proto(model_config, img_size=IMG_SIZE, temperature=search_space['temperature'],\n",
    "                        num_classes=2, margin=search_space['margin']).float()\n",
    "    \n",
    "    model = model.to(device)\n",
    "\n",
    "    ##### Load model if exists\n",
    "    if os.path.exists(MODEL_DIR + '/{}.pth'.format(MODEL_NAME)):\n",
    "        print(\"Resuming previously saved checkpoint...\")\n",
    "        model.load_state_dict(torch.load(MODEL_DIR + '/{}.pth'.format(MODEL_NAME)))\n",
    "\n",
    "    optimizer = torch.optim.AdamW(model.parameters(), lr=search_space['lr'], weight_decay=search_space['weight_decay'])\n",
    "\n",
    "    ##### Fit function\n",
    "    model, history, saved_index = fit_supCon(MAX_EPOCHS, model, trainloader, valloader, optimizer,\n",
    "                                      model_name=MODEL_NAME, image_size=IMG_SIZE,\n",
    "                                      channels=N_FEATURES, device=device, save_model=True,\n",
    "                                      saved_model_dir=MODEL_DIR, patience=PATIENCE,\n",
    "                                      print_summary=print_summary, disable_tqdm=disable_tqdm, \n",
    "                                      include_energy=True, include_attn=True, inside_loss=True,\n",
    "                                     n_individual=len(energies_mean))\n",
    "    \n",
    "    val_loss, val_acc, val_auc, tn, fp, fn, tp = evaluate_val(valloader, model, device, include_energy=True, include_attn=True)\n",
    "\n",
    "    return model, history, saved_index"
   ]
  },
  {
   "cell_type": "code",
   "execution_count": 12,
   "metadata": {},
   "outputs": [],
   "source": [
    "os.makedirs(MODEL_DIR, exist_ok=True)\n",
    "\n",
    "params = {'dim_head': DIM,\n",
    "          'hidden_size': DIM,\n",
    "          'dropout': 0,\n",
    "          'attn_dropout': 0,\n",
    "          'lr': 0.0001,\n",
    "          'n_heads': 8,\n",
    "          'neg_pos_ratio': 5,\n",
    "          'patch_size': 4,\n",
    "          'transformer_depth': 8,\n",
    "          'weight_decay': 0.0001,\n",
    "           'margin': MARGIN,\n",
    "             'temperature': TEMP}\n"
   ]
  },
  {
   "cell_type": "code",
   "execution_count": null,
   "metadata": {},
   "outputs": [
    {
     "name": "stdout",
     "output_type": "stream",
     "text": [
      "Dataset is constructed from /disk/delphi/users/vsteb002/DeepDeltaAff/experiment_notebooks/LossFunction_experiments/../../experiment_runs/09-2022-energies_16R/data_preparation/ directory. Extracted 17291 positive and 452031 negative images from 4650 complexes.\n",
      "Using the following subset of features: [0, 1, 2, 3, 4, 5, 6, 7, 8, 9, 10, 11, 12]\n",
      "Dataset is constructed from /disk/delphi/users/vsteb002/DeepDeltaAff/experiment_notebooks/LossFunction_experiments/../../experiment_runs/09-2022-energies_16R/data_preparation/ directory. Extracted 703 positive and 16864 negative images from 174 complexes.\n",
      "Using the following subset of features: [0, 1, 2, 3, 4, 5, 6, 7, 8, 9, 10, 11, 12]\n"
     ]
    },
    {
     "name": "stderr",
     "output_type": "stream",
     "text": [
      "/lclhome/vsteb002/miniconda3/envs/svpy37/lib/python3.7/site-packages/torch/nn/init.py:388: UserWarning: Initializing zero-element tensors is a no-op\n",
      "  warnings.warn(\"Initializing zero-element tensors is a no-op\")\n"
     ]
    },
    {
     "name": "stdout",
     "output_type": "stream",
     "text": [
      "Start training 3_PiSTON_SupCon_MARGIN:0;temp:0.5 model.\n",
      "[10/10/2022 01:49:53] Starting training for epoch 0...\n"
     ]
    },
    {
     "name": "stderr",
     "output_type": "stream",
     "text": [
      "100%|█████████████████████████████████████████████████████████████████████████████████████████████████████████████| 4650/4650 [23:53<00:00,  3.24it/s]\n"
     ]
    },
    {
     "name": "stdout",
     "output_type": "stream",
     "text": [
      "Average training loss: 0.6289538764440885; train AUC: 0.9148370846058161;\n",
      "Evaluating the model on validation set...\n",
      "Average val loss: 0.6033229827880859; val AUC: 0.9279056145976393;\n",
      "AUC increasing.. 0.0000 >> 0.9279 \n",
      "saving model on epoch 0...\n",
      "[10/10/2022 02:14:13] Starting training for epoch 1...\n"
     ]
    },
    {
     "name": "stderr",
     "output_type": "stream",
     "text": [
      "100%|█████████████████████████████████████████████████████████████████████████████████████████████████████████████| 4650/4650 [24:46<00:00,  3.13it/s]\n"
     ]
    },
    {
     "name": "stdout",
     "output_type": "stream",
     "text": [
      "Average training loss: 0.5373948771818992; train AUC: 0.9503041454223562;\n",
      "Evaluating the model on validation set...\n",
      "Average val loss: 0.5867922902107239; val AUC: 0.9311129579076737;\n",
      "AUC increasing.. 0.9279 >> 0.9311 \n",
      "saving model on epoch 1...\n",
      "[10/10/2022 02:39:26] Starting training for epoch 2...\n"
     ]
    },
    {
     "name": "stderr",
     "output_type": "stream",
     "text": [
      "100%|█████████████████████████████████████████████████████████████████████████████████████████████████████████████| 4650/4650 [24:55<00:00,  3.11it/s]\n"
     ]
    },
    {
     "name": "stdout",
     "output_type": "stream",
     "text": [
      "Average training loss: 0.5178996789615641; train AUC: 0.9550102461713456;\n",
      "Evaluating the model on validation set...\n",
      "Average val loss: 0.5791630148887634; val AUC: 0.9391682339946558;\n",
      "AUC increasing.. 0.9311 >> 0.9392 \n",
      "saving model on epoch 2...\n",
      "[10/10/2022 03:04:48] Starting training for epoch 3...\n"
     ]
    },
    {
     "name": "stderr",
     "output_type": "stream",
     "text": [
      "100%|█████████████████████████████████████████████████████████████████████████████████████████████████████████████| 4650/4650 [24:57<00:00,  3.11it/s]\n"
     ]
    },
    {
     "name": "stdout",
     "output_type": "stream",
     "text": [
      "Average training loss: 0.5069645848325504; train AUC: 0.9580097034719788;\n",
      "Evaluating the model on validation set...\n",
      "Average val loss: 0.5924900770187378; val AUC: 0.9428090685923242;\n",
      "AUC increasing.. 0.9392 >> 0.9428 \n",
      "saving model on epoch 3...\n",
      "[10/10/2022 03:30:12] Starting training for epoch 4...\n"
     ]
    },
    {
     "name": "stderr",
     "output_type": "stream",
     "text": [
      "100%|█████████████████████████████████████████████████████████████████████████████████████████████████████████████| 4650/4650 [24:54<00:00,  3.11it/s]\n"
     ]
    },
    {
     "name": "stdout",
     "output_type": "stream",
     "text": [
      "Average training loss: 0.5034171763895661; train AUC: 0.9597115228703397;\n",
      "Evaluating the model on validation set...\n",
      "Average val loss: 0.5774872303009033; val AUC: 0.9414068685153782;\n",
      "Model did not improved 1 times...\n",
      "[10/10/2022 03:55:33] Starting training for epoch 5...\n"
     ]
    },
    {
     "name": "stderr",
     "output_type": "stream",
     "text": [
      "100%|█████████████████████████████████████████████████████████████████████████████████████████████████████████████| 4650/4650 [24:57<00:00,  3.11it/s]\n"
     ]
    },
    {
     "name": "stdout",
     "output_type": "stream",
     "text": [
      "Average training loss: 0.4978363511959712; train AUC: 0.9610381756205962;\n",
      "Evaluating the model on validation set...\n",
      "Average val loss: 0.6172938942909241; val AUC: 0.9413833767358872;\n",
      "Model did not improved 2 times...\n",
      "[10/10/2022 04:20:56] Starting training for epoch 6...\n"
     ]
    },
    {
     "name": "stderr",
     "output_type": "stream",
     "text": [
      "100%|█████████████████████████████████████████████████████████████████████████████████████████████████████████████| 4650/4650 [24:50<00:00,  3.12it/s]\n"
     ]
    },
    {
     "name": "stdout",
     "output_type": "stream",
     "text": [
      "Average training loss: 0.49423166511840716; train AUC: 0.9617020560191054;\n",
      "Evaluating the model on validation set...\n",
      "Average val loss: 0.5819382667541504; val AUC: 0.939631020329949;\n",
      "Model did not improved 3 times...\n",
      "[10/10/2022 04:46:13] Starting training for epoch 7...\n"
     ]
    },
    {
     "name": "stderr",
     "output_type": "stream",
     "text": [
      "100%|█████████████████████████████████████████████████████████████████████████████████████████████████████████████| 4650/4650 [24:57<00:00,  3.10it/s]\n"
     ]
    },
    {
     "name": "stdout",
     "output_type": "stream",
     "text": [
      "Average training loss: 0.4913757121787276; train AUC: 0.9628239896766555;\n",
      "Evaluating the model on validation set...\n",
      "Average val loss: 0.5892965197563171; val AUC: 0.9457539663143505;\n",
      "AUC increasing.. 0.9428 >> 0.9458 \n",
      "saving model on epoch 7...\n",
      "[10/10/2022 05:11:37] Starting training for epoch 8...\n"
     ]
    },
    {
     "name": "stderr",
     "output_type": "stream",
     "text": [
      "100%|█████████████████████████████████████████████████████████████████████████████████████████████████████████████| 4650/4650 [24:46<00:00,  3.13it/s]\n"
     ]
    },
    {
     "name": "stdout",
     "output_type": "stream",
     "text": [
      "Average training loss: 0.49084295311281756; train AUC: 0.9634936446722185;\n",
      "Evaluating the model on validation set...\n",
      "Average val loss: 0.5642614960670471; val AUC: 0.9462910545899151;\n",
      "AUC increasing.. 0.9458 >> 0.9463 \n",
      "saving model on epoch 8...\n",
      "[10/10/2022 05:36:51] Starting training for epoch 9...\n"
     ]
    },
    {
     "name": "stderr",
     "output_type": "stream",
     "text": [
      "100%|█████████████████████████████████████████████████████████████████████████████████████████████████████████████| 4650/4650 [24:43<00:00,  3.13it/s]\n"
     ]
    },
    {
     "name": "stdout",
     "output_type": "stream",
     "text": [
      "Average training loss: 0.48901580804137773; train AUC: 0.9637667804513393;\n",
      "Evaluating the model on validation set...\n",
      "Average val loss: 0.5697096586227417; val AUC: 0.9467996658748501;\n",
      "AUC increasing.. 0.9463 >> 0.9468 \n",
      "saving model on epoch 9...\n",
      "[10/10/2022 06:02:01] Starting training for epoch 10...\n"
     ]
    },
    {
     "name": "stderr",
     "output_type": "stream",
     "text": [
      "100%|█████████████████████████████████████████████████████████████████████████████████████████████████████████████| 4650/4650 [24:52<00:00,  3.12it/s]\n"
     ]
    },
    {
     "name": "stdout",
     "output_type": "stream",
     "text": [
      "Average training loss: 0.4874647920618775; train AUC: 0.9640333656466444;\n",
      "Evaluating the model on validation set...\n",
      "Average val loss: 0.5714672803878784; val AUC: 0.9460495459605964;\n",
      "Model did not improved 1 times...\n",
      "[10/10/2022 06:27:21] Starting training for epoch 11...\n"
     ]
    },
    {
     "name": "stderr",
     "output_type": "stream",
     "text": [
      "100%|█████████████████████████████████████████████████████████████████████████████████████████████████████████████| 4650/4650 [24:47<00:00,  3.13it/s]\n"
     ]
    },
    {
     "name": "stdout",
     "output_type": "stream",
     "text": [
      "Average training loss: 0.4842444482830263; train AUC: 0.9650140785474614;\n",
      "Evaluating the model on validation set...\n",
      "Average val loss: 0.572435200214386; val AUC: 0.9464669783090784;\n",
      "Model did not improved 2 times...\n",
      "[10/10/2022 06:52:34] Starting training for epoch 12...\n"
     ]
    },
    {
     "name": "stderr",
     "output_type": "stream",
     "text": [
      "100%|█████████████████████████████████████████████████████████████████████████████████████████████████████████████| 4650/4650 [24:51<00:00,  3.12it/s]\n"
     ]
    },
    {
     "name": "stdout",
     "output_type": "stream",
     "text": [
      "Average training loss: 0.48440858913044776; train AUC: 0.9649368412888678;\n",
      "Evaluating the model on validation set...\n",
      "Average val loss: 0.5664809346199036; val AUC: 0.9462222342280868;\n",
      "Model did not improved 3 times...\n",
      "[10/10/2022 07:17:52] Starting training for epoch 13...\n"
     ]
    },
    {
     "name": "stderr",
     "output_type": "stream",
     "text": [
      "100%|█████████████████████████████████████████████████████████████████████████████████████████████████████████████| 4650/4650 [24:54<00:00,  3.11it/s]\n"
     ]
    },
    {
     "name": "stdout",
     "output_type": "stream",
     "text": [
      "Average training loss: 0.4820248062860581; train AUC: 0.9650619328953431;\n",
      "Evaluating the model on validation set...\n",
      "Average val loss: 0.5578160881996155; val AUC: 0.9484971941327114;\n",
      "AUC increasing.. 0.9468 >> 0.9485 \n",
      "saving model on epoch 13...\n",
      "[10/10/2022 07:43:13] Starting training for epoch 14...\n"
     ]
    },
    {
     "name": "stderr",
     "output_type": "stream",
     "text": [
      "100%|█████████████████████████████████████████████████████████████████████████████████████████████████████████████| 4650/4650 [24:50<00:00,  3.12it/s]\n"
     ]
    },
    {
     "name": "stdout",
     "output_type": "stream",
     "text": [
      "Average training loss: 0.4810559792448116; train AUC: 0.9651039902561116;\n",
      "Evaluating the model on validation set...\n",
      "Average val loss: 0.559664249420166; val AUC: 0.9481877992095901;\n",
      "Model did not improved 1 times...\n",
      "[10/10/2022 08:08:30] Starting training for epoch 15...\n"
     ]
    },
    {
     "name": "stderr",
     "output_type": "stream",
     "text": [
      "100%|█████████████████████████████████████████████████████████████████████████████████████████████████████████████| 4650/4650 [24:51<00:00,  3.12it/s]\n"
     ]
    },
    {
     "name": "stdout",
     "output_type": "stream",
     "text": [
      "Average training loss: 0.47940433403176647; train AUC: 0.9655705331619298;\n",
      "Evaluating the model on validation set...\n",
      "Average val loss: 0.601992666721344; val AUC: 0.9496198394848621;\n",
      "AUC increasing.. 0.9485 >> 0.9496 \n",
      "saving model on epoch 15...\n",
      "[10/10/2022 08:33:48] Starting training for epoch 16...\n"
     ]
    },
    {
     "name": "stderr",
     "output_type": "stream",
     "text": [
      "100%|█████████████████████████████████████████████████████████████████████████████████████████████████████████████| 4650/4650 [24:48<00:00,  3.12it/s]\n"
     ]
    },
    {
     "name": "stdout",
     "output_type": "stream",
     "text": [
      "Average training loss: 0.47835963620293526; train AUC: 0.966230644823254;\n",
      "Evaluating the model on validation set...\n",
      "Average val loss: 0.5613296031951904; val AUC: 0.9482963902590261;\n",
      "Model did not improved 1 times...\n",
      "[10/10/2022 08:59:02] Starting training for epoch 17...\n"
     ]
    },
    {
     "name": "stderr",
     "output_type": "stream",
     "text": [
      "100%|█████████████████████████████████████████████████████████████████████████████████████████████████████████████| 4650/4650 [24:40<00:00,  3.14it/s]\n"
     ]
    },
    {
     "name": "stdout",
     "output_type": "stream",
     "text": [
      "Average training loss: 0.47685078282830534; train AUC: 0.9668794689397826;\n",
      "Evaluating the model on validation set...\n",
      "Average val loss: 0.5625059008598328; val AUC: 0.9495754219799722;\n",
      "Model did not improved 2 times...\n",
      "[10/10/2022 09:24:09] Starting training for epoch 18...\n"
     ]
    },
    {
     "name": "stderr",
     "output_type": "stream",
     "text": [
      "100%|█████████████████████████████████████████████████████████████████████████████████████████████████████████████| 4650/4650 [22:46<00:00,  3.40it/s]\n"
     ]
    },
    {
     "name": "stdout",
     "output_type": "stream",
     "text": [
      "Average training loss: 0.47632220400917913; train AUC: 0.9663779664157046;\n",
      "Evaluating the model on validation set...\n",
      "Average val loss: 0.5529746413230896; val AUC: 0.9515822440491033;\n",
      "AUC increasing.. 0.9496 >> 0.9516 \n",
      "saving model on epoch 18...\n",
      "[10/10/2022 09:47:15] Starting training for epoch 19...\n"
     ]
    },
    {
     "name": "stderr",
     "output_type": "stream",
     "text": [
      "100%|█████████████████████████████████████████████████████████████████████████████████████████████████████████████| 4650/4650 [19:55<00:00,  3.89it/s]\n"
     ]
    },
    {
     "name": "stdout",
     "output_type": "stream",
     "text": [
      "Average training loss: 0.47508704330972445; train AUC: 0.9666356176718536;\n",
      "Evaluating the model on validation set...\n",
      "Average val loss: 0.5565393567085266; val AUC: 0.9501814026700653;\n",
      "Model did not improved 1 times...\n",
      "[10/10/2022 10:07:29] Starting training for epoch 20...\n"
     ]
    },
    {
     "name": "stderr",
     "output_type": "stream",
     "text": [
      "100%|█████████████████████████████████████████████████████████████████████████████████████████████████████████████| 4650/4650 [21:45<00:00,  3.56it/s]\n"
     ]
    },
    {
     "name": "stdout",
     "output_type": "stream",
     "text": [
      "Average training loss: 0.4751971815638645; train AUC: 0.967446180268778;\n",
      "Evaluating the model on validation set...\n",
      "Average val loss: 0.5554904341697693; val AUC: 0.950782786453861;\n",
      "Model did not improved 2 times...\n",
      "[10/10/2022 10:30:03] Starting training for epoch 21...\n"
     ]
    },
    {
     "name": "stderr",
     "output_type": "stream",
     "text": [
      "100%|█████████████████████████████████████████████████████████████████████████████████████████████████████████████| 4650/4650 [21:16<00:00,  3.64it/s]\n"
     ]
    },
    {
     "name": "stdout",
     "output_type": "stream",
     "text": [
      "Average training loss: 0.47376785200129273; train AUC: 0.9675676900908653;\n",
      "Evaluating the model on validation set...\n",
      "Average val loss: 0.5840170979499817; val AUC: 0.9484237959461002;\n",
      "Model did not improved 3 times...\n",
      "[10/10/2022 10:51:39] Starting training for epoch 22...\n"
     ]
    },
    {
     "name": "stderr",
     "output_type": "stream",
     "text": [
      "100%|█████████████████████████████████████████████████████████████████████████████████████████████████████████████| 4650/4650 [18:34<00:00,  4.17it/s]\n"
     ]
    },
    {
     "name": "stdout",
     "output_type": "stream",
     "text": [
      "Average training loss: 0.47281839618439314; train AUC: 0.9668544930446207;\n",
      "Evaluating the model on validation set...\n",
      "Average val loss: 0.5527506470680237; val AUC: 0.9489896725389719;\n",
      "Model did not improved 4 times...\n",
      "[10/10/2022 11:10:30] Starting training for epoch 23...\n"
     ]
    },
    {
     "name": "stderr",
     "output_type": "stream",
     "text": [
      "100%|█████████████████████████████████████████████████████████████████████████████████████████████████████████████| 4650/4650 [17:39<00:00,  4.39it/s]\n"
     ]
    },
    {
     "name": "stdout",
     "output_type": "stream",
     "text": [
      "Average training loss: 0.47369851033854227; train AUC: 0.9672835598862658;\n",
      "Evaluating the model on validation set...\n",
      "Average val loss: 0.5580501556396484; val AUC: 0.9490625217922966;\n",
      "Model did not improved 5 times...\n",
      "[10/10/2022 11:28:26] Starting training for epoch 24...\n"
     ]
    },
    {
     "name": "stderr",
     "output_type": "stream",
     "text": [
      "100%|█████████████████████████████████████████████████████████████████████████████████████████████████████████████| 4650/4650 [18:15<00:00,  4.24it/s]\n"
     ]
    },
    {
     "name": "stdout",
     "output_type": "stream",
     "text": [
      "Average training loss: 0.4729254661115908; train AUC: 0.9674464188689696;\n",
      "Evaluating the model on validation set...\n",
      "Average val loss: 0.5582522749900818; val AUC: 0.9518429506686866;\n",
      "AUC increasing.. 0.9516 >> 0.9518 \n",
      "saving model on epoch 24...\n",
      "[10/10/2022 11:46:59] Starting training for epoch 25...\n"
     ]
    },
    {
     "name": "stderr",
     "output_type": "stream",
     "text": [
      " 61%|███████████████████████████████████████████████████████████████████                                          | 2859/4650 [11:02<06:46,  4.41it/s]IOPub message rate exceeded.\n",
      "The notebook server will temporarily stop sending output\n",
      "to the client in order to avoid crashing it.\n",
      "To change this limit, set the config variable\n",
      "`--NotebookApp.iopub_msg_rate_limit`.\n",
      "\n",
      "Current values:\n",
      "NotebookApp.iopub_msg_rate_limit=1000.0 (msgs/sec)\n",
      "NotebookApp.rate_limit_window=3.0 (secs)\n",
      "\n",
      "100%|█████████████████████████████████████████████████████████████████████████████████████████████████████████████| 4650/4650 [17:34<00:00,  4.41it/s]\n"
     ]
    },
    {
     "name": "stdout",
     "output_type": "stream",
     "text": [
      "Average training loss: 0.4688222893543782; train AUC: 0.9683226043058717;\n",
      "Evaluating the model on validation set...\n",
      "Average val loss: 0.5590335130691528; val AUC: 0.9514652685858234;\n",
      "Model did not improved 4 times...\n",
      "[10/10/2022 12:58:52] Starting training for epoch 29...\n"
     ]
    },
    {
     "name": "stderr",
     "output_type": "stream",
     "text": [
      " 44%|███████████████████████████████████████████████▊                                                             | 2042/4650 [07:41<10:18,  4.22it/s]IOPub message rate exceeded.\n",
      "The notebook server will temporarily stop sending output\n",
      "to the client in order to avoid crashing it.\n",
      "To change this limit, set the config variable\n",
      "`--NotebookApp.iopub_msg_rate_limit`.\n",
      "\n",
      "Current values:\n",
      "NotebookApp.iopub_msg_rate_limit=1000.0 (msgs/sec)\n",
      "NotebookApp.rate_limit_window=3.0 (secs)\n",
      "\n",
      "100%|█████████████████████████████████████████████████████████████████████████████████████████████████████████████| 4650/4650 [17:31<00:00,  4.42it/s]\n"
     ]
    },
    {
     "name": "stdout",
     "output_type": "stream",
     "text": [
      "Average training loss: 0.46743239260168484; train AUC: 0.9679159104388778;\n",
      "Evaluating the model on validation set...\n",
      "Average val loss: 0.5497114062309265; val AUC: 0.9514725448378022;\n",
      "Model did not improved 6 times...\n",
      "[10/10/2022 13:34:29] Starting training for epoch 31...\n"
     ]
    },
    {
     "name": "stderr",
     "output_type": "stream",
     "text": [
      "100%|█████████████████████████████████████████████████████████████████████████████████████████████████████████████| 4650/4650 [17:27<00:00,  4.44it/s]\n"
     ]
    },
    {
     "name": "stdout",
     "output_type": "stream",
     "text": [
      "Average training loss: 0.4671388886308157; train AUC: 0.9685013079200898;\n",
      "Evaluating the model on validation set...\n",
      "Average val loss: 0.5565101504325867; val AUC: 0.948405378249939;\n",
      "Model did not improved 7 times...\n",
      "[10/10/2022 13:52:13] Starting training for epoch 32...\n"
     ]
    },
    {
     "name": "stderr",
     "output_type": "stream",
     "text": [
      "100%|█████████████████████████████████████████████████████████████████████████████████████████████████████████████| 4650/4650 [18:22<00:00,  4.22it/s]\n"
     ]
    },
    {
     "name": "stdout",
     "output_type": "stream",
     "text": [
      "Average training loss: 0.468103068209784; train AUC: 0.9691694440944761;\n",
      "Evaluating the model on validation set...\n",
      "Average val loss: 0.557314932346344; val AUC: 0.9486811946768721;\n",
      "Model did not improved 8 times...\n",
      "[10/10/2022 14:10:58] Starting training for epoch 33...\n"
     ]
    },
    {
     "name": "stderr",
     "output_type": "stream",
     "text": [
      "100%|█████████████████████████████████████████████████████████████████████████████████████████████████████████████| 4650/4650 [19:10<00:00,  4.04it/s]\n"
     ]
    },
    {
     "name": "stdout",
     "output_type": "stream",
     "text": [
      "Average training loss: 0.465183365239251; train AUC: 0.9692514120577613;\n",
      "Evaluating the model on validation set...\n",
      "Average val loss: 0.5521332025527954; val AUC: 0.9500959038500193;\n",
      "Model did not improved 9 times...\n",
      "[10/10/2022 14:30:25] Starting training for epoch 34...\n"
     ]
    },
    {
     "name": "stderr",
     "output_type": "stream",
     "text": [
      " 94%|██████████████████████████████████████████████████████████████████████████████████████████████████████       | 4356/4650 [17:03<01:04,  4.52it/s]"
     ]
    }
   ],
   "source": [
    "os.environ[\"CUDA_VISIBLE_DEVICES\"] = \"0\"\n",
    "\n",
    "model, history, saved_index = train_piston(params,\n",
    "                            train_list=train_list,\n",
    "                            val_list=val_list,\n",
    "                             SEED_ID=SEED_ID,\n",
    "                             IMG_SIZE=IMG_SIZE,\n",
    "                             PATIENCE=PATIENCE,\n",
    "                            MODEL_NAME=MODEL_NAME,\n",
    "                             MAX_EPOCHS=MAX_EPOCH,\n",
    "                             N_FEATURES=N_FEATURES,\n",
    "                             MODEL_DIR=MODEL_DIR,\n",
    "                            docked_dir=config['dirs']['docked'],\n",
    "                            pos_grid_dir=config['dirs']['grid'],\n",
    "                             mean=mean_array,\n",
    "                            std=std_array,\n",
    "                            energies_mean=all_energies_mean, \n",
    "                            energies_std=all_energies_std,\n",
    "                            feature_subset=FEATURES_SUBSET,\n",
    "                            disable_tqdm=False,\n",
    "                            print_summary=False,\n",
    "                            data_prepare_dir=DATA_DIR)"
   ]
  },
  {
   "cell_type": "code",
   "execution_count": 16,
   "metadata": {},
   "outputs": [],
   "source": [
    "\"\"\"\n",
    "Apply contrastive loss to the final embeddings;\n",
    "\n",
    "\"\"\"\n",
    "\n",
    "import torch\n",
    "from torch import nn\n",
    "from networks.ViT_pytorch import Encoder\n",
    "from networks.ViT_hybrid import ViT_Hybrid_encoder\n",
    "import pdb\n",
    "from torch.nn import CosineEmbeddingLoss\n",
    "from losses.proto_loss import ProtoLoss\n",
    "from losses.supCon_loss import SupConLoss\n",
    "\n",
    "class PISToN_proto(nn.Module):\n",
    "\n",
    "    def __init__(self, config, img_size=24, num_classes=2, zero_head=False, margin=0, temperature=0.1):\n",
    "        super(PISToN_proto, self).__init__()\n",
    "\n",
    "        \"\"\"\n",
    "        Input: Image with the following features:\n",
    "\n",
    "        0 - Shape index | p1\n",
    "        1 - Distance depended curvature | p1\n",
    "        2 - Hydrogen bond potential | p1\n",
    "        3 - Charge | p1\n",
    "        4 - Hydrophobicity | p1\n",
    "        5 - Shape index | p1\n",
    "        6 - Distance depended curvature | p1\n",
    "        7 - Hydrogen bond potential | p1\n",
    "        8 - Charge | p1\n",
    "        9 - Hydrophobicity | p1\n",
    "        10 - Distance between atoms | p1 and p2\n",
    "        11 - Relative ASA | p1\n",
    "        12 - Relative ASA | p1\n",
    "\n",
    "        Energies with the following features:\n",
    "        0  - glob      - global score of the candidate, which is linear combination of the terms described bellow. To rank the candidates, you should sort the rows by this column in ascending order.\n",
    "        1  - aVdW      - attractive van der Waals\n",
    "        2  - rVdW      - repulsive van der Waals\n",
    "        3  - ACE       - Atomic Contact Energy | desolvation (10.1006/jmbi.1996.0859)\n",
    "        4  - inside    - \"Insideness\" measure, which reflects the concavity of the interface.\n",
    "        5  - aElec     - short-range attractive electrostatic term\n",
    "        6  - rElec     - short-range repulsive electrostatic term\n",
    "        7  - laElec    - long-range attractive electrostatic term\n",
    "        8  - lrElec    - long-range repulsive electrostatic term\n",
    "        9  - hb        - hydrogen and disulfide bonding\n",
    "        10 - piS\t     - pi-stacking interactions\n",
    "        11 - catpiS\t  - cation-pi interactions\n",
    "        12 - aliph\t  - aliphatic interactions\n",
    "\n",
    "        Loss = alpha * (BCE_i/5) + Global_BCE, where alpha is a hyperparameter from 0 to 1\n",
    "\n",
    "        \"\"\"\n",
    "\n",
    "        # First tuple is the feature index in the image, and the second tuple is the feature index of energy terms\n",
    "        self.index_dict = {\n",
    "            'shape_complementarity': ( (0, 5, 1, 6, 10), (1,2,4) ),\n",
    "            'RASA': ( (11, 12, 10), (3,) ),\n",
    "            'hydrogen_bonds': ( (2, 7, 10), (9,) ),\n",
    "            'charge': ( (3, 8, 10), (5, 6, 7, 8, 10, 11, 12) ),\n",
    "            'hydrophobicity': ((4, 9, 10), ()),\n",
    "        }\n",
    "\n",
    "        self.img_size = img_size\n",
    "        self.num_classes = num_classes\n",
    "        self.zero_head = zero_head\n",
    "\n",
    "\n",
    "        self.spatial_transformers_list = nn.ModuleList()\n",
    "\n",
    "        for feature in self.index_dict.keys():\n",
    "            self.spatial_transformers_list.append(self.init_transformer(config, channels=len(self.index_dict[feature][0]),\n",
    "                                                                n_individual=len(self.index_dict[feature][1])))\n",
    "\n",
    "\n",
    "        self.classifier = config.classifier\n",
    "        self.feature_transformer = Encoder(config, vis=True)\n",
    "\n",
    "        self.cls_token = nn.Parameter(torch.zeros(1, 1, config.hidden_size), requires_grad=True)\n",
    "        self.proto_vector_pos = nn.Parameter(torch.rand(1,config.hidden_size), requires_grad=True)\n",
    "        self.proto_vector_neg = nn.Parameter(torch.rand(1,config.hidden_size), requires_grad=True)\n",
    "        self.margin = margin\n",
    "        self.temperature = temperature\n",
    "        #self.cosine_loss = CosineEmbeddingLoss(margin=margin)\n",
    "\n",
    "        # self.proto_loss_fn = ProtoLoss(margin=margin, prototype_activation_function=prototype_activation_function)\n",
    "\n",
    "        #self.final_head = nn.Linear(config.hidden_size, num_classes)\n",
    "\n",
    "    def init_transformer(self, config, channels, n_individual):\n",
    "        \"\"\"\n",
    "        Initialize Transformer Network for a given tupe of features\n",
    "        :param model_config:\n",
    "        :param channels:\n",
    "        :param n_individual:\n",
    "        :return:\n",
    "        \"\"\"\n",
    "        return ViT_Hybrid_encoder(config, n_individual, img_size=self.img_size,\n",
    "                        num_classes=self.num_classes, channels=channels, vis=True)\n",
    "\n",
    "\n",
    "    def forward(self, img, energies, labels=None):\n",
    "\n",
    "        all_x = []\n",
    "        all_spatial_attn = []\n",
    "        for i, feature in enumerate(self.index_dict.keys()):\n",
    "            img_tmp = img[:,self.index_dict[feature][0],:,:]\n",
    "            energy_tmp = energies[:, self.index_dict[feature][1]]\n",
    "\n",
    "            x, attn = self.spatial_transformers_list[i](img_tmp, energy_tmp)\n",
    "\n",
    "            all_x.append(x)\n",
    "            all_spatial_attn.append(attn)\n",
    "\n",
    "        x = torch.stack(all_x, dim=1) # (36, 5, 16)\n",
    "\n",
    "        # Create classification token\n",
    "        B = x.shape[0] #batch\n",
    "        cls_tokens = self.cls_token.expand(B, -1, -1)\n",
    "\n",
    "        x = torch.cat((cls_tokens, x), dim=1)\n",
    "\n",
    "        x, feature_attn = self.feature_transformer(x)\n",
    "\n",
    "        x = x[:, 0]\n",
    "        x = nn.functional.normalize(x)  # L2 normalization\n",
    "\n",
    "        proto_vector_pos = nn.functional.normalize(self.proto_vector_pos)\n",
    "        proto_vector_neg = nn.functional.normalize(self.proto_vector_neg)\n",
    "\n",
    "        dist = nn.PairwiseDistance()\n",
    "        dist_to_pos_prototype = dist(x, proto_vector_pos.repeat(x.shape[0], 1))\n",
    "        dist_to_neg_prototype = dist(x, proto_vector_neg.repeat(x.shape[0], 1))\n",
    "\n",
    "        # 0 - minimize distance to positives\n",
    "        logits = torch.stack([dist_to_pos_prototype-dist_to_neg_prototype, dist_to_neg_prototype-dist_to_pos_prototype], axis=1)\n",
    "\n",
    "        scores = dist_to_pos_prototype-dist_to_neg_prototype\n",
    "        #scores = dist_to_pos_prototype\n",
    "        #print(labels)\n",
    "        #print(scores)\n",
    "        # print(dist_to_pos_prototype)\n",
    "        # print(logits)\n",
    "        # print(dist_to_pos_prototype)\n",
    "        # print()\n",
    "        # print(dist_to_neg_prototype)\n",
    "        # print()\n",
    "        if labels is not None:\n",
    "            proto_loss_fn = ProtoLoss(margin=self.margin)\n",
    "            bce_loss_fn = nn.CrossEntropyLoss()\n",
    "            SupConLoss_fn = SupConLoss(temperature=self.temperature, base_temperature=self.temperature*10)\n",
    "\n",
    "            proto_loss = proto_loss_fn(x, proto_vector_pos, proto_vector_neg, labels)\n",
    "            BCE_loss = bce_loss_fn(logits, labels) # probability of the positive class\n",
    "            supCon_loss = SupConLoss_fn(x, labels)\n",
    "            loss = proto_loss + BCE_loss + supCon_loss\n",
    "\n",
    "        # Do the Supervised Contrastive Loss jointly with Cosine Loss\n",
    "        #x = self.final_head(x)\n",
    "\n",
    "            return scores, (all_spatial_attn, feature_attn), loss\n",
    "        else:\n",
    "            return scores, (all_spatial_attn, feature_attn)\n",
    "\n"
   ]
  },
  {
   "cell_type": "code",
   "execution_count": 17,
   "metadata": {},
   "outputs": [],
   "source": [
    "pass"
   ]
  },
  {
   "cell_type": "code",
   "execution_count": 18,
   "metadata": {},
   "outputs": [
    {
     "name": "stdout",
     "output_type": "stream",
     "text": [
      "Number of parameters: 92984\n",
      "Loaded 678 positive and 678 negative testing complexes\n"
     ]
    },
    {
     "data": {
      "text/plain": [
       "tensor([-0.7997,  1.2573, -1.8382,  ...,  1.9615,  1.8849,  1.7807],\n",
       "       grad_fn=<SubBackward0>)"
      ]
     },
     "execution_count": 18,
     "metadata": {},
     "output_type": "execute_result"
    }
   ],
   "source": [
    "import numpy as np\n",
    "\n",
    "model=None\n",
    "model_config=get_ml_config(params)\n",
    "model = PISToN_proto(model_config, img_size=32,\n",
    "                        num_classes=2).float()\n",
    "model.load_state_dict(torch.load(MODEL_DIR + '/{}.pth'.format(MODEL_NAME)))\n",
    "\n",
    "model_parameters = filter(lambda p: p.requires_grad, model.parameters())\n",
    "n_params = sum([np.prod(p.size()) for p in model_parameters])\n",
    "print(f\"Number of parameters: {n_params}\")\n",
    "\n",
    "masif_processed_pos_list = [x.strip('\\n') for x in open('../data/lists/processed_masif_pos.txt')]\n",
    "masif_processed_neg_list = [x.strip('\\n') for x in open('../data/lists/processed_masif_neg.txt')]\n",
    "\n",
    "GRID_DIR = \"../data/masif_test/prepare_energies_16R/07-grid/\"\n",
    "\n",
    "## Read grid images\n",
    "grid_pos = []\n",
    "grid_neg = []\n",
    "energies_pos = []\n",
    "energies_neg = []\n",
    "for ppi in masif_processed_pos_list:\n",
    "    grid = np.load(f\"{GRID_DIR}/{ppi}.npy\", allow_pickle=True)\n",
    "    grid_pos.append(grid)\n",
    "\n",
    "    energies_path = f\"{GRID_DIR}/refined-out-{ppi}.ref\"\n",
    "    energies = read_energies(energies_path, assign_zeros=True)\n",
    "    energies_pos.append(energies)\n",
    "\n",
    "for ppi in masif_processed_neg_list:\n",
    "    grid = np.load(f\"{GRID_DIR}/{ppi}.npy\", allow_pickle=True)\n",
    "    grid_neg.append(grid)\n",
    "\n",
    "    energies_path = f\"{GRID_DIR}/refined-out-{ppi}.ref\"\n",
    "    energies = read_energies(energies_path, assign_zeros=True)\n",
    "    energies_neg.append(energies)\n",
    "\n",
    "\n",
    "print(f\"Loaded {len(grid_pos)} positive and {len(grid_neg)} negative testing complexes\")\n",
    "\n",
    "# Read grid\n",
    "\n",
    "grid = np.stack(grid_pos+grid_neg, axis=0)\n",
    "true_label = [1 for x in range(len(grid_pos))] + [0 for x in range(len(grid_neg))]\n",
    "# Place features to the 1st access\n",
    "grid = np.swapaxes(grid, -1, 1).astype(np.float32)\n",
    "grid = grid[:,FEATURES_SUBSET,:,:]\n",
    "grid.shape\n",
    "\n",
    "# Read energies\n",
    "all_energies = np.stack(energies_pos+energies_neg, axis=0)\n",
    "all_energies.shape\n",
    "\n",
    "\n",
    "#### Standard scaling\n",
    "## IMAGE\n",
    "\n",
    "def learn_background_mask(grid):\n",
    "    \"\"\"\n",
    "    Returns the mask with zero elements outside the patch\n",
    "    :param grid: example of a grid image\n",
    "    :return: mask\n",
    "    \"\"\"\n",
    "    mask = np.zeros((grid.shape[0], grid.shape[1]))\n",
    "    radius = grid.shape[0]/2\n",
    "    for row_i in range(grid.shape[0]):\n",
    "        for column_i in range(grid.shape[1]):\n",
    "            # Check if coordinates are within the radius\n",
    "            x = column_i - radius\n",
    "            y = radius - row_i\n",
    "            if x ** 2 + y ** 2 <= radius ** 2:\n",
    "                mask[row_i][column_i] = 1\n",
    "    return mask\n",
    "\n",
    "background_mask = learn_background_mask(grid_pos[0])\n",
    "\n",
    "for feature_i in range(grid.shape[1]):\n",
    "    grid[:,feature_i,:,:] = (grid[:,feature_i,:,:] - mean_array[feature_i])/std_array[feature_i]\n",
    "    # Mask out values that are out of the radius:\n",
    "    grid = np.logical_and(grid, background_mask)*grid\n",
    "    \n",
    "## ENERGIES\n",
    "for energy_i in range(all_energies.shape[1]):\n",
    "    all_energies[:,energy_i] = (all_energies[:,energy_i] - all_energies_mean[energy_i])/all_energies_std[energy_i]\n",
    "\n",
    "## Inference\n",
    "device=torch.device(\"cpu\")\n",
    "grid = torch.from_numpy(grid).to(device)\n",
    "all_energies = torch.from_numpy(all_energies).float().to(device)\n",
    "model = model.to(device)\n",
    "output, attn =model(grid, all_energies)\n",
    "output"
   ]
  },
  {
   "cell_type": "code",
   "execution_count": 19,
   "metadata": {},
   "outputs": [
    {
     "name": "stdout",
     "output_type": "stream",
     "text": [
      "Final test AUC of 3_PiSTON_SupCon_MARGIN:0;temp:0.5 with FireDock energy terms: 0.06443991959694051\n"
     ]
    },
    {
     "data": {
      "image/png": "[encoded data removed]",
      "text/plain": [
       "<Figure size 432x288 with 1 Axes>"
      ]
     },
     "metadata": {},
     "output_type": "display_data"
    }
   ],
   "source": [
    "import torch.nn.functional as F\n",
    "from sklearn import metrics\n",
    "\n",
    "pred_probabilities = output.cpu().detach().numpy()\n",
    "\n",
    "# Select probability of the complex to be positive (y=1)\n",
    "#pred_probabilities = [float(x[1]) for x in pred_probabilities]\n",
    "\n",
    "auc = metrics.roc_auc_score(true_label, pred_probabilities)\n",
    "print(f\"Final test AUC of {MODEL_NAME} with FireDock energy terms: {auc}\")\n",
    "\n",
    "import pandas as pd\n",
    "## Save the file with all scores\n",
    "all_ppis = masif_processed_pos_list + masif_processed_neg_list\n",
    "out_file = f\"{MODEL_DIR}/{MODEL_NAME}_scores.csv\"\n",
    "with open(out_file, 'w') as out:\n",
    "    out.write(\"PPI,score,label\\n\")\n",
    "    for i in range(len(pred_probabilities)):\n",
    "        out.write(f\"{all_ppis[i]},{pred_probabilities[i]},{true_label[i]}\\n\")\n",
    "transsbind_df = pd.read_csv(out_file)\n",
    "\n",
    "### other scores\n",
    "import pandas as pd\n",
    "\n",
    "SCORES_MASIF=\"../data/masif_test/MaSIF-Search_scores.csv\"\n",
    "OTHER_SCORES=\"../data/masif_test/Other_tools_SCORES.csv\"\n",
    "\n",
    "scores_masif = pd.read_csv(SCORES_MASIF)\n",
    "scores_other = pd.read_csv(OTHER_SCORES)\n",
    "\n",
    "def plot_ROC(df, score_name, label_name, model_name, ax, color, pos_label):\n",
    "    fpr, tpr, thresh = roc_curve(df[label_name], df[score_name], pos_label=pos_label)\n",
    "    if not pos_label:\n",
    "        labels = -df[label_name] + 1\n",
    "    else:\n",
    "        labels=df[label_name]\n",
    "    ROC = roc_auc_score(labels, df[score_name])\n",
    "    ax.plot(fpr, tpr, linestyle='-',color=color, label=f'{model_name} (AUC={int(ROC*10000)/100})')\n",
    "\n",
    "# matplotlib\n",
    "import matplotlib.pyplot as plt\n",
    "import matplotlib\n",
    "plt.style.use('ggplot')\n",
    "\n",
    "from sklearn.metrics import roc_curve\n",
    "from sklearn.metrics import roc_auc_score\n",
    "\n",
    "colors = matplotlib.cm.Set1(range(9))\n",
    "\n",
    "\n",
    "fig, ax = plt.subplots()\n",
    "plot_ROC(transsbind_df, 'score', 'label', 'PISToN', ax, colors[0], pos_label=0)\n",
    "plot_ROC(scores_masif, 'score', 'label', 'MaSIF', ax, colors[8], pos_label=0)\n",
    "\n",
    "other_labels = ['FIREDOCK', 'AP_PISA', 'CP_PIE', 'PYDOCK_TOT', 'ZRANK2', 'ROSETTADOCK', 'SIPPER']\n",
    "pos_labels = [0,0,1,0,0,0,1]\n",
    "colors_array = ['r', 'c', 'm', 'y', 'black', 'orange', 'tan']\n",
    "for i in range(len(other_labels)):\n",
    "    plot_ROC(scores_other, other_labels[i], 'Label', other_labels[i], ax, colors[i+1], pos_label=pos_labels[i])\n",
    "\n",
    "\n",
    "\n",
    "# # title\n",
    "plt.title('AUC ROC curve')\n",
    "# x label\n",
    "plt.xlabel('False Positive Rate')\n",
    "# y label\n",
    "plt.ylabel('True Positive rate')\n",
    "\n",
    "plt.legend(loc='best')\n",
    "plt.savefig(f'out_AUC_{MODEL_NAME}.png',dpi=600)\n",
    "plt.show();"
   ]
  },
  {
   "cell_type": "code",
   "execution_count": 20,
   "metadata": {},
   "outputs": [
    {
     "name": "stdout",
     "output_type": "stream",
     "text": [
      "16581/16585 complexes were processed.\n",
      "Unprocessed complexes: {'T37-1239_A_B', 'T37-401_A_B', 'T37-515_A_B', 'T37-919_A_B'}\n",
      "The PISToN score for those complexes will be assigned to 0.\n",
      "['T47', 'T32', 'T35', 'T30', 'T39', 'T40', 'T37', 'T41', 'T29', 'T46', 'T53', 'T54', 'T50']\n",
      "Sample T47: 608 positives out of 1015 models\n",
      "Sample T32: 15 positives out of 599 models\n",
      "Sample T35: 3 positives out of 497 models\n",
      "Sample T30: 2 positives out of 1096 models\n",
      "Sample T39: 4 positives out of 1287 models\n",
      "Sample T40: 535 positives out of 1971 models\n",
      "Sample T37: 97 positives out of 1364 models\n",
      "Sample T41: 347 positives out of 1096 models\n",
      "Sample T29: 166 positives out of 1979 models\n",
      "Sample T46: 24 positives out of 1570 models\n",
      "Sample T53: 122 positives out of 1360 models\n",
      "Sample T54: 19 positives out of 1304 models\n",
      "Sample T50: 133 positives out of 1447 models\n",
      "Total 2075 positive complexes out of 16581\n",
      "Interaction maps shape: (16581, 13, 32, 32)\n",
      "All energies shape: (16581, 13)\n"
     ]
    },
    {
     "name": "stderr",
     "output_type": "stream",
     "text": [
      "100%|███████████████████████████████████████████████████████████████████████████████████████████████████████████████| 130/130 [00:07<00:00, 17.26it/s]\n"
     ]
    },
    {
     "data": {
      "text/plain": [
       "tensor([ 0.2456,  0.9261,  1.9602,  ...,  0.2290, -0.6003,  0.7949],\n",
       "       device='cuda:0')"
      ]
     },
     "execution_count": 20,
     "metadata": {},
     "output_type": "execute_result"
    }
   ],
   "source": [
    "##################\n",
    "## SUCCESS RATE ##\n",
    "##################\n",
    "\n",
    "## Read HADDOCK models\n",
    "CAPRI_LIST_FILE = '../data/lists/capri_list_models.txt'\n",
    "CAPRI_DIR=os.getcwd()+'/../data/benchmark_deepRank/'\n",
    "\n",
    "config = {}\n",
    "\n",
    "DATA_DIR = os.getcwd()+'/../data/benchmark_deepRank/piston_prepare/'\n",
    "config['dirs'] = {}\n",
    "config['dirs']['data_prepare'] = DATA_DIR\n",
    "config['dirs']['grid'] = config['dirs']['data_prepare'] + '07-grid/'\n",
    "config['ppi_const'] = {}\n",
    "config['ppi_const']['patch_r'] = 16 # 16\n",
    "\n",
    "\n",
    "\n",
    "capri_list = [x.strip('\\n') for x in open(CAPRI_LIST_FILE, 'r').readlines()]\n",
    "test_list_updated = get_processed(capri_list, config)\n",
    "\n",
    "print(f\"{len(test_list_updated)}/{len(capri_list)} complexes were processed.\")\n",
    "unprocessed_complexes = set(capri_list) - set(test_list_updated)\n",
    "\n",
    "print(f\"Unprocessed complexes: {unprocessed_complexes}\")\n",
    "print(\"The PISToN score for those complexes will be assigned to 0.\")\n",
    "\n",
    "unique_pids = list(set([x.split('-')[0] for x in capri_list]))\n",
    "print(unique_pids)\n",
    "\n",
    "def read_score_dict(data_dir, score_file_affix, unique_pids, print_labels=False):\n",
    "    score_dict = {}\n",
    "    for pid in unique_pids:\n",
    "        score_file = f\"{data_dir}/{pid}/{pid}.{score_file_affix}\"\n",
    "        all_scores = []\n",
    "        for line in open(score_file).readlines():\n",
    "            curr_model, score = line.strip('\\n').split('\\t')\n",
    "            model_id = curr_model.split('_')[0] + '-' + curr_model.split('_')[1]\n",
    "            score = float(score)\n",
    "            score_dict[model_id] = score\n",
    "            all_scores.append(score)\n",
    "        if print_labels:\n",
    "            print(f\"Sample {pid}: {int(np.sum(all_scores))} positives out of {len(all_scores)} models\")\n",
    "    return score_dict\n",
    "            \n",
    "\n",
    "labels_dict = read_score_dict(CAPRI_DIR, 'label', unique_pids, print_labels=True) \n",
    "\n",
    "# assign integer label\n",
    "for key_i in labels_dict.keys():\n",
    "    labels_dict[key_i] = int(labels_dict[key_i])\n",
    "    \n",
    "# Create labels array\n",
    "labels = []\n",
    "for ppi in test_list_updated:\n",
    "    model_id = ppi.split('_')[0]\n",
    "    labels.append(labels_dict[model_id])\n",
    "    \n",
    "print(f\"Total {np.sum(labels)} positive complexes out of {len(labels)}\")\n",
    "\n",
    "from torch.utils.data import Dataset\n",
    "\n",
    "class PISToN_dataset(Dataset):\n",
    "    def __init__(self, grid_dir, ppi_list):\n",
    "\n",
    "        ### Empirically learned mean and standard deviations:\n",
    "        mean_array = [0.06383528408485302, 0.043833505848899605, -0.08456032982438057, 0.007828608135306595,\n",
    "                      -0.06060602411612203, 0.06383528408485302, 0.043833505848899605, -0.08456032982438057,\n",
    "                      0.007828608135306595, -0.06060602411612203, 11.390402735801011, 0.1496338245579665,\n",
    "                      0.1496338245579665]\n",
    "        std_array = [0.4507792893174703, 0.14148081793902434, 0.16581325050002976, 0.28599861830017204,\n",
    "                     0.6102229371168204, 0.4507792893174703, 0.14148081793902434, 0.16581325050002976,\n",
    "                     0.28599861830017204, 0.6102229371168204, 7.265311558033949, 0.18003612950610695,\n",
    "                     0.18003612950610695]\n",
    "\n",
    "        all_energies_mean = [-193.1392953586498, -101.97838818565408, 264.2099535864983, -17.27086075949363,\n",
    "                             16.329959915611877, -102.78101054852341, 36.531006329113836, -27.1124789029536,\n",
    "                             16.632626582278455, -8.784924050632918, -6.206329113924051, -1.8290084388185655,\n",
    "                             -11.827215189873417]\n",
    "        all_energies_std = [309.23521244706757, 66.75799437657368, 9792.783784373369, 25.384427268309658,\n",
    "                            7.929941961525389, 94.05055841984323, 47.22518557457095, 24.392679889433445,\n",
    "                            17.57399925906454, 7.041949880295568, 6.99554122803362, 2.557571754303165,\n",
    "                            13.666329541281653]\n",
    "\n",
    "        all_grids = []\n",
    "        all_energies = []\n",
    "\n",
    "        for ppi in ppi_list:\n",
    "            grid = np.load(f\"{grid_dir}/{ppi}.npy\", allow_pickle=True)\n",
    "            all_grids.append(grid)\n",
    "            energies_path = f\"{grid_dir}/refined-out-{ppi}.ref\"\n",
    "            energies = read_energies(energies_path, assign_zeros=True)\n",
    "            all_energies.append(energies)\n",
    "\n",
    "        background_mask = learn_background_mask(grid)\n",
    "\n",
    "        grid = np.stack(all_grids, axis=0)\n",
    "        grid = np.swapaxes(grid, -1, 1).astype(np.float32)\n",
    "        all_energies = np.stack(all_energies, axis=0)\n",
    "\n",
    "        print(f\"Interaction maps shape: {grid.shape}\")\n",
    "        print(f\"All energies shape: {all_energies.shape}\")\n",
    "\n",
    "        ### Standard scaling\n",
    "\n",
    "        # Interactino maps:\n",
    "        for feature_i in range(grid.shape[1]):\n",
    "            grid[:, feature_i, :, :] = (grid[:, feature_i, :, :] - mean_array[feature_i]) / std_array[feature_i]\n",
    "            # Mask out values that are out of the radius:\n",
    "            grid = np.logical_and(grid, background_mask) * grid\n",
    "\n",
    "        ## ENERGIES:\n",
    "        for energy_i in range(all_energies.shape[1]):\n",
    "            all_energies[:, energy_i] = (all_energies[:, energy_i] - all_energies_mean[energy_i]) / all_energies_std[\n",
    "                energy_i]\n",
    "\n",
    "        self.grid = grid\n",
    "        self.all_energies = all_energies\n",
    "\n",
    "    def __len__(self):\n",
    "        return self.grid.shape[0]\n",
    "\n",
    "    def __getitem__(self, idx):\n",
    "        return self.grid[idx], self.all_energies[idx]\n",
    "    \n",
    "from torch.utils.data import DataLoader\n",
    "\n",
    "capri_dataset = PISToN_dataset(config['dirs']['grid'], test_list_updated)\n",
    "\n",
    "capri_loader = DataLoader(capri_dataset, batch_size=128, shuffle=False, pin_memory=False)\n",
    "\n",
    "from tqdm import tqdm\n",
    "device=torch.device(\"cuda\")\n",
    "\n",
    "# Infer in batches\n",
    "all_outputs = []\n",
    "with torch.no_grad():\n",
    "    for grid, all_energies in tqdm(capri_loader):\n",
    "        grid = grid.to(device)\n",
    "        all_energies = all_energies.float().to(device)\n",
    "        model = model.to(device)\n",
    "        output, attn = model(grid, all_energies)\n",
    "        all_outputs.append(output)\n",
    "output = torch.cat(all_outputs, axis=0)\n",
    "output"
   ]
  },
  {
   "cell_type": "code",
   "execution_count": 30,
   "metadata": {},
   "outputs": [
    {
     "name": "stdout",
     "output_type": "stream",
     "text": [
      "Final test AUC for CAPRI dataset of 3_PiSTON_SupCon_MARGIN:0;temp:0.5: 0.8126360382951516\n",
      "DOVE AUC for CAPRI dataset: 0.5638840517134008\n",
      "DeepRank AUC for CAPRI dataset: 0.7222781131417468\n",
      "HADDOCK AUC for CAPRI dataset: 0.703525761211628\n",
      "iSCORE AUC for CAPRI dataset: 0.7351248578047545\n"
     ]
    },
    {
     "data": {
      "text/html": [
       "<div>\n",
       "<style scoped>\n",
       "    .dataframe tbody tr th:only-of-type {\n",
       "        vertical-align: middle;\n",
       "    }\n",
       "\n",
       "    .dataframe tbody tr th {\n",
       "        vertical-align: top;\n",
       "    }\n",
       "\n",
       "    .dataframe thead th {\n",
       "        text-align: right;\n",
       "    }\n",
       "</style>\n",
       "<table border=\"1\" class=\"dataframe\">\n",
       "  <thead>\n",
       "    <tr style=\"text-align: right;\">\n",
       "      <th></th>\n",
       "      <th>PISToN</th>\n",
       "      <th>DOVE</th>\n",
       "      <th>DeepRank</th>\n",
       "      <th>iSCORE</th>\n",
       "      <th>HADDOCK</th>\n",
       "      <th>label</th>\n",
       "      <th>capri_quality</th>\n",
       "      <th>model_name</th>\n",
       "      <th>target</th>\n",
       "    </tr>\n",
       "  </thead>\n",
       "  <tbody>\n",
       "    <tr>\n",
       "      <th>0</th>\n",
       "      <td>0.245601</td>\n",
       "      <td>0.0031</td>\n",
       "      <td>0.093072</td>\n",
       "      <td>-0.453</td>\n",
       "      <td>-66.65310</td>\n",
       "      <td>0</td>\n",
       "      <td>4.0</td>\n",
       "      <td>T29-0_A_B</td>\n",
       "      <td>T29</td>\n",
       "    </tr>\n",
       "    <tr>\n",
       "      <th>1</th>\n",
       "      <td>0.926115</td>\n",
       "      <td>0.2474</td>\n",
       "      <td>0.242705</td>\n",
       "      <td>-0.568</td>\n",
       "      <td>-65.60780</td>\n",
       "      <td>0</td>\n",
       "      <td>4.0</td>\n",
       "      <td>T29-1000_A_B</td>\n",
       "      <td>T29</td>\n",
       "    </tr>\n",
       "    <tr>\n",
       "      <th>2</th>\n",
       "      <td>1.960213</td>\n",
       "      <td>0.0617</td>\n",
       "      <td>0.992702</td>\n",
       "      <td>0.116</td>\n",
       "      <td>-76.41506</td>\n",
       "      <td>0</td>\n",
       "      <td>4.0</td>\n",
       "      <td>T29-1001_A_B</td>\n",
       "      <td>T29</td>\n",
       "    </tr>\n",
       "    <tr>\n",
       "      <th>3</th>\n",
       "      <td>1.523465</td>\n",
       "      <td>0.0062</td>\n",
       "      <td>0.154322</td>\n",
       "      <td>-0.292</td>\n",
       "      <td>9.46515</td>\n",
       "      <td>0</td>\n",
       "      <td>4.0</td>\n",
       "      <td>T29-1002_A_B</td>\n",
       "      <td>T29</td>\n",
       "    </tr>\n",
       "    <tr>\n",
       "      <th>4</th>\n",
       "      <td>1.959803</td>\n",
       "      <td>0.0125</td>\n",
       "      <td>0.992147</td>\n",
       "      <td>-0.680</td>\n",
       "      <td>-50.94296</td>\n",
       "      <td>0</td>\n",
       "      <td>4.0</td>\n",
       "      <td>T29-1003_A_B</td>\n",
       "      <td>T29</td>\n",
       "    </tr>\n",
       "    <tr>\n",
       "      <th>...</th>\n",
       "      <td>...</td>\n",
       "      <td>...</td>\n",
       "      <td>...</td>\n",
       "      <td>...</td>\n",
       "      <td>...</td>\n",
       "      <td>...</td>\n",
       "      <td>...</td>\n",
       "      <td>...</td>\n",
       "      <td>...</td>\n",
       "    </tr>\n",
       "    <tr>\n",
       "      <th>16580</th>\n",
       "      <td>0.794902</td>\n",
       "      <td>0.0453</td>\n",
       "      <td>1.000000</td>\n",
       "      <td>0.339</td>\n",
       "      <td>242.38618</td>\n",
       "      <td>0</td>\n",
       "      <td>4.0</td>\n",
       "      <td>T54-9_A_B</td>\n",
       "      <td>T54</td>\n",
       "    </tr>\n",
       "    <tr>\n",
       "      <th>16581</th>\n",
       "      <td>1.000000</td>\n",
       "      <td>0.1457</td>\n",
       "      <td>0.972651</td>\n",
       "      <td>-0.808</td>\n",
       "      <td>-59.38579</td>\n",
       "      <td>0</td>\n",
       "      <td>4.0</td>\n",
       "      <td>T37-1239_A_B</td>\n",
       "      <td>T37</td>\n",
       "    </tr>\n",
       "    <tr>\n",
       "      <th>16582</th>\n",
       "      <td>1.000000</td>\n",
       "      <td>0.1598</td>\n",
       "      <td>1.000000</td>\n",
       "      <td>0.966</td>\n",
       "      <td>854.35735</td>\n",
       "      <td>0</td>\n",
       "      <td>4.0</td>\n",
       "      <td>T37-401_A_B</td>\n",
       "      <td>T37</td>\n",
       "    </tr>\n",
       "    <tr>\n",
       "      <th>16583</th>\n",
       "      <td>1.000000</td>\n",
       "      <td>0.0068</td>\n",
       "      <td>0.999997</td>\n",
       "      <td>-0.436</td>\n",
       "      <td>697.20496</td>\n",
       "      <td>0</td>\n",
       "      <td>4.0</td>\n",
       "      <td>T37-515_A_B</td>\n",
       "      <td>T37</td>\n",
       "    </tr>\n",
       "    <tr>\n",
       "      <th>16584</th>\n",
       "      <td>1.000000</td>\n",
       "      <td>0.0035</td>\n",
       "      <td>0.999965</td>\n",
       "      <td>0.174</td>\n",
       "      <td>237.10611</td>\n",
       "      <td>0</td>\n",
       "      <td>4.0</td>\n",
       "      <td>T37-919_A_B</td>\n",
       "      <td>T37</td>\n",
       "    </tr>\n",
       "  </tbody>\n",
       "</table>\n",
       "<p>16585 rows × 9 columns</p>\n",
       "</div>"
      ],
      "text/plain": [
       "         PISToN    DOVE  DeepRank  iSCORE    HADDOCK  label  capri_quality  \\\n",
       "0      0.245601  0.0031  0.093072  -0.453  -66.65310      0            4.0   \n",
       "1      0.926115  0.2474  0.242705  -0.568  -65.60780      0            4.0   \n",
       "2      1.960213  0.0617  0.992702   0.116  -76.41506      0            4.0   \n",
       "3      1.523465  0.0062  0.154322  -0.292    9.46515      0            4.0   \n",
       "4      1.959803  0.0125  0.992147  -0.680  -50.94296      0            4.0   \n",
       "...         ...     ...       ...     ...        ...    ...            ...   \n",
       "16580  0.794902  0.0453  1.000000   0.339  242.38618      0            4.0   \n",
       "16581  1.000000  0.1457  0.972651  -0.808  -59.38579      0            4.0   \n",
       "16582  1.000000  0.1598  1.000000   0.966  854.35735      0            4.0   \n",
       "16583  1.000000  0.0068  0.999997  -0.436  697.20496      0            4.0   \n",
       "16584  1.000000  0.0035  0.999965   0.174  237.10611      0            4.0   \n",
       "\n",
       "         model_name target  \n",
       "0         T29-0_A_B    T29  \n",
       "1      T29-1000_A_B    T29  \n",
       "2      T29-1001_A_B    T29  \n",
       "3      T29-1002_A_B    T29  \n",
       "4      T29-1003_A_B    T29  \n",
       "...             ...    ...  \n",
       "16580     T54-9_A_B    T54  \n",
       "16581  T37-1239_A_B    T37  \n",
       "16582   T37-401_A_B    T37  \n",
       "16583   T37-515_A_B    T37  \n",
       "16584   T37-919_A_B    T37  \n",
       "\n",
       "[16585 rows x 9 columns]"
      ]
     },
     "execution_count": 30,
     "metadata": {},
     "output_type": "execute_result"
    }
   ],
   "source": [
    "import torch.nn.functional as F\n",
    "from sklearn import metrics\n",
    "\n",
    "# pred_probabilities = F.softmax(output, dim=1)\n",
    "pred_probabilities = list(output.cpu().detach().numpy())\n",
    "\n",
    "# Select probability of the complex to be positive (y=1)\n",
    "#pred_probabilities = [float(x[1]) for x in output]\n",
    "\n",
    "# append unprocessed complexes\n",
    "pred_probabilities = pred_probabilities + [1 for x in list(unprocessed_complexes)]\n",
    "all_capri_complexes = test_list_updated + list(unprocessed_complexes)\n",
    "true_labels = labels + [labels_dict[x.split('_')[0]] for x in list(unprocessed_complexes)]\n",
    "\n",
    "auc = metrics.roc_auc_score(true_labels, pred_probabilities)\n",
    "print(f\"Final test AUC for CAPRI dataset of {MODEL_NAME}: {1-auc}\")\n",
    "\n",
    "# other scores\n",
    "\n",
    "dove_dict = read_score_dict(CAPRI_DIR, 'dove', unique_pids) \n",
    "deeprank_dict = read_score_dict(CAPRI_DIR, 'deeprank', unique_pids) \n",
    "haddockScore_dict = read_score_dict(CAPRI_DIR, 'haddockScore', unique_pids) \n",
    "iScore_dict = read_score_dict(CAPRI_DIR, 'iScore', unique_pids) \n",
    "\n",
    "def assign_score(score_dict, all_capri_complexes):\n",
    "    score = []\n",
    "    for ppi in all_capri_complexes:\n",
    "        model_id = ppi.split('_')[0]\n",
    "        score.append(score_dict[model_id])\n",
    "    return score\n",
    "        \n",
    "dove_scores = assign_score(dove_dict, all_capri_complexes)\n",
    "deeprank_scores = assign_score(deeprank_dict, all_capri_complexes)\n",
    "haddockScore_scores = assign_score(haddockScore_dict, all_capri_complexes)\n",
    "iScore_scores = assign_score(iScore_dict, all_capri_complexes)\n",
    "\n",
    "auc = metrics.roc_auc_score(true_labels, dove_scores)\n",
    "print(f\"DOVE AUC for CAPRI dataset: {auc}\")\n",
    "\n",
    "auc = metrics.roc_auc_score(true_labels, deeprank_scores)\n",
    "print(f\"DeepRank AUC for CAPRI dataset: {1-auc}\")\n",
    "\n",
    "auc = metrics.roc_auc_score(true_labels, haddockScore_scores)\n",
    "print(f\"HADDOCK AUC for CAPRI dataset: {1-auc}\")\n",
    "\n",
    "auc = metrics.roc_auc_score(true_labels, iScore_scores)\n",
    "print(f\"iSCORE AUC for CAPRI dataset: {1-auc}\")\n",
    "\n",
    "capri_dict = read_score_dict(CAPRI_DIR, 'capri', unique_pids) \n",
    "capri_labels = assign_score(capri_dict, all_capri_complexes)\n",
    "\n",
    "import pandas as pd\n",
    "\n",
    "df = {\"PISToN\":pred_probabilities, \n",
    "      \"DOVE\": dove_scores, \n",
    "      \"DeepRank\": deeprank_scores, \n",
    "      \"iSCORE\": iScore_scores, \n",
    "      \"HADDOCK\": haddockScore_scores,\n",
    "      \"label\": true_labels,\n",
    "      \"capri_quality\": capri_labels,\n",
    "     \"model_name\": all_capri_complexes,\n",
    "     #\"target\": \n",
    "     }\n",
    "\n",
    "df = pd.DataFrame(df)\n",
    "df['target'] = df['model_name'].apply(lambda x: x.split('-')[0])\n",
    "df"
   ]
  },
  {
   "cell_type": "code",
   "execution_count": 31,
   "metadata": {},
   "outputs": [
    {
     "data": {
      "image/png": "[encoded data removed]",
      "text/plain": [
       "<Figure size 432x288 with 1 Axes>"
      ]
     },
     "metadata": {},
     "output_type": "display_data"
    }
   ],
   "source": [
    "def plot_ROC(df, score_name, label_name, model_name, ax, color, pos_label):\n",
    "    fpr, tpr, thresh = roc_curve(df[label_name], df[score_name], pos_label=pos_label)\n",
    "    if not pos_label:\n",
    "        labels = -df[label_name] + 1\n",
    "    else:\n",
    "        labels=df[label_name]\n",
    "    ROC = roc_auc_score(labels, df[score_name])\n",
    "    ax.plot(fpr, tpr, linestyle='-',color=color, label=f'{model_name} (AUC={int(ROC*10000)/100})')\n",
    "\n",
    "    # matplotlib\n",
    "import matplotlib.pyplot as plt\n",
    "import matplotlib\n",
    "plt.style.use('ggplot')\n",
    "\n",
    "from sklearn.metrics import roc_curve\n",
    "from sklearn.metrics import roc_auc_score\n",
    "\n",
    "colors = matplotlib.cm.Set1(range(9))\n",
    "\n",
    "fig, ax = plt.subplots()\n",
    "\n",
    "other_labels = ['PISToN', 'iSCORE', 'DeepRank', 'HADDOCK', 'DOVE']\n",
    "pos_labels = [0,0,0,0,1]\n",
    "colors_array = ['r', 'c', 'm', 'y', 'black']\n",
    "for i in range(len(other_labels)):\n",
    "    plot_ROC(df, other_labels[i], 'label', other_labels[i], ax, colors[i], pos_label=pos_labels[i])\n",
    "\n",
    "\n",
    "\n",
    "# # title\n",
    "plt.title('AUC ROC curve')\n",
    "# x label\n",
    "plt.xlabel('False Positive Rate')\n",
    "# y label\n",
    "plt.ylabel('True Positive rate')\n",
    "\n",
    "plt.legend(loc='best')\n",
    "plt.savefig(f'AUC_CAPRI_{MODEL_NAME}.png',dpi=600)\n",
    "plt.show();"
   ]
  },
  {
   "cell_type": "code",
   "execution_count": 32,
   "metadata": {},
   "outputs": [
    {
     "name": "stdout",
     "output_type": "stream",
     "text": [
      "PISToN\n",
      "[38, 38, 46, 69, 76, 76, 100]\n",
      "HADDOCK\n",
      "[23, 23, 23, 46, 53, 69, 76]\n",
      "DeepRank\n",
      "[15, 30, 30, 53, 61, 69, 92]\n",
      "iSCORE\n",
      "[38, 46, 46, 53, 61, 76, 84]\n",
      "DOVE\n",
      "[0, 15, 15, 15, 46, 46, 69]\n"
     ]
    },
    {
     "data": {
      "text/html": [
       "<div>\n",
       "<style scoped>\n",
       "    .dataframe tbody tr th:only-of-type {\n",
       "        vertical-align: middle;\n",
       "    }\n",
       "\n",
       "    .dataframe tbody tr th {\n",
       "        vertical-align: top;\n",
       "    }\n",
       "\n",
       "    .dataframe thead th {\n",
       "        text-align: right;\n",
       "    }\n",
       "</style>\n",
       "<table border=\"1\" class=\"dataframe\">\n",
       "  <thead>\n",
       "    <tr style=\"text-align: right;\">\n",
       "      <th></th>\n",
       "      <th>0</th>\n",
       "      <th>1</th>\n",
       "      <th>2</th>\n",
       "      <th>3</th>\n",
       "      <th>4</th>\n",
       "      <th>5</th>\n",
       "      <th>6</th>\n",
       "      <th>7</th>\n",
       "    </tr>\n",
       "  </thead>\n",
       "  <tbody>\n",
       "    <tr>\n",
       "      <th>0</th>\n",
       "      <td>PISToN</td>\n",
       "      <td>38</td>\n",
       "      <td>38</td>\n",
       "      <td>46</td>\n",
       "      <td>69</td>\n",
       "      <td>76</td>\n",
       "      <td>76</td>\n",
       "      <td>100</td>\n",
       "    </tr>\n",
       "    <tr>\n",
       "      <th>1</th>\n",
       "      <td>HADDOCK</td>\n",
       "      <td>23</td>\n",
       "      <td>23</td>\n",
       "      <td>23</td>\n",
       "      <td>46</td>\n",
       "      <td>53</td>\n",
       "      <td>69</td>\n",
       "      <td>76</td>\n",
       "    </tr>\n",
       "    <tr>\n",
       "      <th>2</th>\n",
       "      <td>DeepRank</td>\n",
       "      <td>15</td>\n",
       "      <td>30</td>\n",
       "      <td>30</td>\n",
       "      <td>53</td>\n",
       "      <td>61</td>\n",
       "      <td>69</td>\n",
       "      <td>92</td>\n",
       "    </tr>\n",
       "    <tr>\n",
       "      <th>3</th>\n",
       "      <td>iSCORE</td>\n",
       "      <td>38</td>\n",
       "      <td>46</td>\n",
       "      <td>46</td>\n",
       "      <td>53</td>\n",
       "      <td>61</td>\n",
       "      <td>76</td>\n",
       "      <td>84</td>\n",
       "    </tr>\n",
       "    <tr>\n",
       "      <th>4</th>\n",
       "      <td>DOVE</td>\n",
       "      <td>0</td>\n",
       "      <td>15</td>\n",
       "      <td>15</td>\n",
       "      <td>15</td>\n",
       "      <td>46</td>\n",
       "      <td>46</td>\n",
       "      <td>69</td>\n",
       "    </tr>\n",
       "  </tbody>\n",
       "</table>\n",
       "</div>"
      ],
      "text/plain": [
       "          0   1   2   3   4   5   6    7\n",
       "0    PISToN  38  38  46  69  76  76  100\n",
       "1   HADDOCK  23  23  23  46  53  69   76\n",
       "2  DeepRank  15  30  30  53  61  69   92\n",
       "3    iSCORE  38  46  46  53  61  76   84\n",
       "4      DOVE   0  15  15  15  46  46   69"
      ]
     },
     "execution_count": 32,
     "metadata": {},
     "output_type": "execute_result"
    },
    {
     "data": {
      "image/png": "[encoded data removed]",
      "text/plain": [
       "<Figure size 432x288 with 1 Axes>"
      ]
     },
     "metadata": {},
     "output_type": "display_data"
    }
   ],
   "source": [
    "import numpy as np\n",
    "\n",
    "all_targets = list(df['target'].unique())\n",
    "\n",
    "def compute_success_rate(method, ascending, ax, color):\n",
    "    hits_target = np.zeros(200)\n",
    "    for target in all_targets:\n",
    "        target_df = df[df['target']==target]\n",
    "        target_df = target_df.sort_values(by=method, ascending=ascending).reset_index(drop=True)\n",
    "        for i in range(1, 200):\n",
    "            if 1 in list(target_df[:i]['label']):\n",
    "                for j in range(i, 200):\n",
    "                    hits_target[j] += 1/len(all_targets)\n",
    "                break\n",
    "    ax.plot(range(200), hits_target, linestyle='-',color=color, label=f'{method}')\n",
    "    return hits_target\n",
    "\n",
    "colors = matplotlib.cm.Set1(range(9))\n",
    "\n",
    "fig, ax = plt.subplots()\n",
    "\n",
    "compute_success_rate('PISToN', True, ax, colors[0])\n",
    "\n",
    "methods = ['HADDOCK', 'DeepRank', 'iSCORE', 'DOVE']\n",
    "\n",
    "for i,method in enumerate(methods):\n",
    "    compute_success_rate(method, True, ax, colors[i+1])\n",
    "            \n",
    " # # title\n",
    "plt.title('Success Rate on CAPRI-score set')\n",
    "# x label\n",
    "plt.xlabel('Top N')\n",
    "# y label\n",
    "plt.ylabel('Success Rate')\n",
    "\n",
    "plt.legend(loc='best')           \n",
    "plt.savefig(f'HIT_RATE_{MODEL_NAME}.png',dpi=600)\n",
    "\n",
    "\n",
    "def compute_success_rate(method, ascending):\n",
    "    top1 = 0\n",
    "    top3 = 0\n",
    "    top5=0\n",
    "    top10 = 0\n",
    "    top25 = 0\n",
    "    top100= 0\n",
    "    top200 = 0\n",
    "    for target in all_targets:\n",
    "        target_df = df[df['target']==target]\n",
    "        target_df = target_df.sort_values(by=method, ascending=ascending).reset_index(drop=True)\n",
    "        if 1 in list(target_df[:1]['label']):\n",
    "             top1+=1\n",
    "        if 1 in list(target_df[:3]['label']):\n",
    "             top3+=1\n",
    "        if 1 in list(target_df[:5]['label']):\n",
    "             top5+=1\n",
    "        if 1 in list(target_df[:10]['label']):\n",
    "            top10+=1\n",
    "        if 1 in list(target_df[:25]['label']):\n",
    "            top25+=1\n",
    "        if 1 in list(target_df[:100]['label']):\n",
    "             top100+=1\n",
    "        if 1 in list(target_df[:200]['label']):\n",
    "            top200+=1\n",
    "    all_success_rate = [top1,top3, top5, top10, top25, top100, top200]\n",
    "    #all_success_rate = [top10, top25, top200]\n",
    "\n",
    "    all_success_rate = [int(x*100/len(all_targets)) for x in all_success_rate]\n",
    "    print(method)\n",
    "    print(all_success_rate)\n",
    "    #print(f\"Top1: {all_success_rate[0]} Top10: {all_success_rate[1]}; Top25: {all_success_rate[[2]]}; Top100: {all_success_rate[3]}; Top200: {all_success_rate[4]}\")\n",
    "    return all_success_rate\n",
    "\n",
    "\n",
    "#compute_success_rate('PISToN', True)\n",
    "methods = ['PISToN', 'HADDOCK', 'DeepRank', 'iSCORE', 'DOVE']\n",
    "all_scores = []\n",
    "for method in methods:\n",
    "    all_scores.append([method]+compute_success_rate(method, True))\n",
    "\n",
    "df = pd.DataFrame(all_scores)\n",
    "df\n"
   ]
  },
  {
   "cell_type": "code",
   "execution_count": null,
   "metadata": {},
   "outputs": [],
   "source": []
  }
 ],
 "metadata": {
  "kernelspec": {
   "display_name": "Python 3 (ipykernel)",
   "language": "python",
   "name": "python3"
  },
  "language_info": {
   "codemirror_mode": {
    "name": "ipython",
    "version": 3
   },
   "file_extension": ".py",
   "mimetype": "text/x-python",
   "name": "python",
   "nbconvert_exporter": "python",
   "pygments_lexer": "ipython3",
   "version": "3.7.11"
  }
 },
 "nbformat": 4,
 "nbformat_minor": 4
}
